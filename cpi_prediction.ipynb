{
 "cells": [
  {
   "cell_type": "code",
   "execution_count": 2,
   "metadata": {},
   "outputs": [
    {
     "name": "stderr",
     "output_type": "stream",
     "text": [
      "Using TensorFlow backend.\n"
     ]
    }
   ],
   "source": [
    "import sys\n",
    "import os\n",
    "import pandas as pd\n",
    "import numpy as np\n",
    "import matplotlib.pyplot as plt\n",
    "import sklearn\n",
    "import sklearn.preprocessing\n",
    "import sklearn.model_selection\n",
    "from sklearn.linear_model import LinearRegression\n",
    "from sklearn.ensemble import RandomForestRegressor\n",
    "sys.path.append('C:\\\\Program Files\\\\lib\\\\site-packages')\n",
    "import tensorflow as tf\n",
    "import keras"
   ]
  },
  {
   "cell_type": "code",
   "execution_count": 3,
   "metadata": {
    "collapsed": true
   },
   "outputs": [],
   "source": [
    "os.chdir('C://Users//nschm/economic_data/')\n",
    "cpi_data=pd.read_csv('CPIAUCSL.csv')\n",
    "unemp=pd.read_csv('Unemploy_rate.csv')\n",
    "cpi_data['pd_date']=pd.to_datetime(cpi_data['DATE'])\n",
    "unemp['pd_date']=pd.to_datetime(unemp['DATE'])"
   ]
  },
  {
   "cell_type": "code",
   "execution_count": 4,
   "metadata": {
    "collapsed": true
   },
   "outputs": [],
   "source": [
    "def date_align(dfA, datatitleA, dfB, datatitleB):\n",
    "    i = 0\n",
    "    j = 0\n",
    "    new_df = pd.DataFrame()\n",
    "    date_list = []\n",
    "    A_list = []\n",
    "    B_list = []\n",
    "    while i < len(dfA['pd_date']) and j < len(dfB['pd_date']):\n",
    "        if dfA['pd_date'][i] < dfB['pd_date'][j]:\n",
    "            date_list.append(dfA['pd_date'][i])\n",
    "            A_list.append(dfA[datatitleA][i])\n",
    "            B_list.append(np.nan)\n",
    "            i += 1\n",
    "        elif dfA['pd_date'][i] == dfB['pd_date'][j]:\n",
    "            date_list.append(dfA['pd_date'][i])\n",
    "            A_list.append(dfA[datatitleA][i])\n",
    "            B_list.append(dfB[datatitleB][j])\n",
    "            i += 1\n",
    "            j += 1\n",
    "        elif dfA['pd_date'][i] > dfB['pd_date'][j]:\n",
    "            date_list.append(dfB['pd_date'][j])\n",
    "            A_list.append(np.nan)\n",
    "            B_list.append(dfB[datatitleB][j])\n",
    "            j += 1\n",
    "    while j < len(dfB['pd_date']):\n",
    "        date_list.append(dfB['pd_date'][j])\n",
    "        A_list.append(np.nan)\n",
    "        B_list.append(dfB[datatitleB][j])\n",
    "        j += 1\n",
    "    while i < len(dfA['pd_date']):\n",
    "        date_list.append(dfA['pd_date'][i])\n",
    "        A_list.append(dfA[datatitleA][i])\n",
    "        B_list.append(np.nan)\n",
    "        i += 1\n",
    "    new_df['pd_date'] = date_list\n",
    "    new_df[datatitleA] = A_list\n",
    "    new_df[datatitleB] = B_list\n",
    "    return new_df\n",
    "\n",
    "def create_diff_vector(start_df, datatitle, datetitle):\n",
    "    diff = []\n",
    "    diff_perc = []\n",
    "    diff.append(np.nan)\n",
    "    diff_perc.append(np.nan)\n",
    "    for i in range(1, len(start_df[datetitle])):\n",
    "        diff.append(start_df[datatitle][i] - start_df[datatitle][i - 1])\n",
    "        diff_perc.append((start_df[datatitle][i] - start_df[datatitle][i - 1]) / start_df[datatitle][i])\n",
    "    return diff, diff_perc\n",
    "\n",
    "def remove_rows(df, num_rows):\n",
    "    df=df.drop(df.index[0:num_rows])\n",
    "    df=df.reset_index()\n",
    "    df=df.drop(['index'], axis=1)\n",
    "    return df"
   ]
  },
  {
   "cell_type": "code",
   "execution_count": 5,
   "metadata": {
    "collapsed": true
   },
   "outputs": [],
   "source": [
    "cpi_data=pd.read_csv('CPIAUCSL.csv')\n",
    "unemp=pd.read_csv('Unemploy_rate.csv')\n",
    "cpi_data['pd_date']=pd.to_datetime(cpi_data['DATE'])\n",
    "unemp['pd_date']=pd.to_datetime(unemp['DATE'])"
   ]
  },
  {
   "cell_type": "code",
   "execution_count": 6,
   "metadata": {
    "collapsed": true
   },
   "outputs": [],
   "source": [
    "ppi_data=pd.read_csv('PPIACO.csv')\n",
    "ppi_data['pd_date']=pd.to_datetime(ppi_data['DATE'])\n",
    "ppi_data=remove_rows(ppi_data, 408)"
   ]
  },
  {
   "cell_type": "code",
   "execution_count": 7,
   "metadata": {
    "collapsed": true
   },
   "outputs": [],
   "source": [
    "combined_df = date_align(cpi_data, 'CPIAUCSL', unemp, 'UNRATE')\n",
    "[cpi_diff, cpi_diff_perc]=create_diff_vector(combined_df, 'CPIAUCSL', 'pd_date')\n",
    "[unemp_diff, unemp_diff_perc]=create_diff_vector(combined_df, 'UNRATE', 'pd_date')\n",
    "combined_df['cpi_diff']=cpi_diff\n",
    "combined_df['cpi_diff_perc']=cpi_diff_perc\n",
    "combined_df['unemp_diff']=unemp_diff\n",
    "combined_df['unemp_diff_perc']=unemp_diff_perc"
   ]
  },
  {
   "cell_type": "code",
   "execution_count": 8,
   "metadata": {
    "collapsed": true
   },
   "outputs": [],
   "source": [
    "temp_combined_df = date_align(cpi_data, 'CPIAUCSL', ppi_data, 'PPIACO')\n",
    "combined_df['PPI']=temp_combined_df['PPIACO']\n",
    "[ppi_diff, ppi_diff_perc]=create_diff_vector(combined_df, 'PPI', 'pd_date')\n",
    "combined_df['ppi_diff']=ppi_diff\n",
    "combined_df['ppi_diff_perc']=ppi_diff_perc"
   ]
  },
  {
   "cell_type": "code",
   "execution_count": 52,
   "metadata": {},
   "outputs": [
    {
     "data": {
      "text/html": [
       "<div>\n",
       "<style>\n",
       "    .dataframe thead tr:only-child th {\n",
       "        text-align: right;\n",
       "    }\n",
       "\n",
       "    .dataframe thead th {\n",
       "        text-align: left;\n",
       "    }\n",
       "\n",
       "    .dataframe tbody tr th {\n",
       "        vertical-align: top;\n",
       "    }\n",
       "</style>\n",
       "<table border=\"1\" class=\"dataframe\">\n",
       "  <thead>\n",
       "    <tr style=\"text-align: right;\">\n",
       "      <th></th>\n",
       "      <th>pd_date</th>\n",
       "      <th>CPIAUCSL</th>\n",
       "      <th>UNRATE</th>\n",
       "      <th>cpi_diff</th>\n",
       "      <th>cpi_diff_perc</th>\n",
       "      <th>unemp_diff</th>\n",
       "      <th>unemp_diff_perc</th>\n",
       "      <th>PPI</th>\n",
       "      <th>ppi_diff</th>\n",
       "      <th>ppi_diff_perc</th>\n",
       "    </tr>\n",
       "  </thead>\n",
       "  <tbody>\n",
       "    <tr>\n",
       "      <th>847</th>\n",
       "      <td>2017-08-01</td>\n",
       "      <td>245.030</td>\n",
       "      <td>4.4</td>\n",
       "      <td>0.982</td>\n",
       "      <td>0.004008</td>\n",
       "      <td>0.982</td>\n",
       "      <td>0.004008</td>\n",
       "      <td>193.8</td>\n",
       "      <td>0.3</td>\n",
       "      <td>0.001548</td>\n",
       "    </tr>\n",
       "    <tr>\n",
       "      <th>848</th>\n",
       "      <td>2017-09-01</td>\n",
       "      <td>246.373</td>\n",
       "      <td>4.2</td>\n",
       "      <td>1.343</td>\n",
       "      <td>0.005451</td>\n",
       "      <td>1.343</td>\n",
       "      <td>0.005451</td>\n",
       "      <td>194.5</td>\n",
       "      <td>0.7</td>\n",
       "      <td>0.003599</td>\n",
       "    </tr>\n",
       "    <tr>\n",
       "      <th>849</th>\n",
       "      <td>2017-10-01</td>\n",
       "      <td>246.639</td>\n",
       "      <td>4.1</td>\n",
       "      <td>0.266</td>\n",
       "      <td>0.001078</td>\n",
       "      <td>0.266</td>\n",
       "      <td>0.001078</td>\n",
       "      <td>194.8</td>\n",
       "      <td>0.3</td>\n",
       "      <td>0.001540</td>\n",
       "    </tr>\n",
       "    <tr>\n",
       "      <th>850</th>\n",
       "      <td>2017-11-01</td>\n",
       "      <td>247.592</td>\n",
       "      <td>4.1</td>\n",
       "      <td>0.953</td>\n",
       "      <td>0.003849</td>\n",
       "      <td>0.953</td>\n",
       "      <td>0.003849</td>\n",
       "      <td>195.8</td>\n",
       "      <td>1.0</td>\n",
       "      <td>0.005107</td>\n",
       "    </tr>\n",
       "    <tr>\n",
       "      <th>851</th>\n",
       "      <td>2017-12-01</td>\n",
       "      <td>247.963</td>\n",
       "      <td>4.1</td>\n",
       "      <td>0.371</td>\n",
       "      <td>0.001496</td>\n",
       "      <td>0.371</td>\n",
       "      <td>0.001496</td>\n",
       "      <td>196.4</td>\n",
       "      <td>0.6</td>\n",
       "      <td>0.003055</td>\n",
       "    </tr>\n",
       "  </tbody>\n",
       "</table>\n",
       "</div>"
      ],
      "text/plain": [
       "       pd_date  CPIAUCSL  UNRATE  cpi_diff  cpi_diff_perc  unemp_diff  \\\n",
       "847 2017-08-01   245.030     4.4     0.982       0.004008       0.982   \n",
       "848 2017-09-01   246.373     4.2     1.343       0.005451       1.343   \n",
       "849 2017-10-01   246.639     4.1     0.266       0.001078       0.266   \n",
       "850 2017-11-01   247.592     4.1     0.953       0.003849       0.953   \n",
       "851 2017-12-01   247.963     4.1     0.371       0.001496       0.371   \n",
       "\n",
       "     unemp_diff_perc    PPI  ppi_diff  ppi_diff_perc  \n",
       "847         0.004008  193.8       0.3       0.001548  \n",
       "848         0.005451  194.5       0.7       0.003599  \n",
       "849         0.001078  194.8       0.3       0.001540  \n",
       "850         0.003849  195.8       1.0       0.005107  \n",
       "851         0.001496  196.4       0.6       0.003055  "
      ]
     },
     "execution_count": 52,
     "metadata": {},
     "output_type": "execute_result"
    }
   ],
   "source": [
    "combined_df.tail()"
   ]
  },
  {
   "cell_type": "code",
   "execution_count": 53,
   "metadata": {
    "collapsed": true
   },
   "outputs": [],
   "source": [
    "prev_cpi=[]\n",
    "prev_ppi=[]\n",
    "prev_unemp=[]\n",
    "current_cpi=[]\n",
    "current_ppi=[]\n",
    "current_unemp=[]\n",
    "cpi_mean=[]\n",
    "ppi_mean=[]\n",
    "unemp_mean=[]\n",
    "for i in range(150, len(combined_df['pd_date'])):\n",
    "    prev_cpi.append(combined_df['cpi_diff_perc'][i-1])\n",
    "    prev_ppi.append(combined_df['ppi_diff_perc'][i-1])\n",
    "    prev_unemp.append(combined_df['unemp_diff_perc'][i-1])\n",
    "    current_cpi.append(combined_df['cpi_diff_perc'][i])\n",
    "    current_ppi.append(combined_df['ppi_diff_perc'][i])\n",
    "    current_unemp.append(combined_df['unemp_diff_perc'][i])\n",
    "    cpi_mean.append(np.nanmean(combined_df['cpi_diff_perc'][i-11:i-1]))\n",
    "    ppi_mean.append(np.nanmean(combined_df['ppi_diff_perc'][i-11:i-1]))\n",
    "    unemp_mean.append(np.nanmean(combined_df['unemp_diff_perc'][i-11:i-1]))\n",
    "dataset=pd.DataFrame()\n",
    "dataset['prev_cpi']=prev_cpi\n",
    "dataset['prev_ppi']=prev_ppi\n",
    "dataset['prev_unemp']=prev_unemp\n",
    "dataset['current_cpi']=current_cpi\n",
    "dataset['current_ppi']=current_ppi\n",
    "dataset['current_unemp']=current_unemp\n",
    "dataset['mean_cpi']=cpi_mean\n",
    "dataset['mean_ppi']=ppi_mean\n",
    "dataset['mean_unemp']=unemp_mean\n",
    "final_values=dataset[-1:]\n",
    "dataset=dataset[:-1]\n",
    "temp=[dataset[1::5], dataset[2::5], dataset[3::5], dataset[4::5]]\n",
    "training=pd.concat(temp)\n",
    "test=dataset[5::5]"
   ]
  },
  {
   "cell_type": "code",
   "execution_count": 54,
   "metadata": {
    "collapsed": true
   },
   "outputs": [],
   "source": [
    "col_names=['prev_cpi', 'prev_ppi', 'prev_unemp', 'mean_cpi', 'mean_ppi', 'mean_unemp']"
   ]
  },
  {
   "cell_type": "code",
   "execution_count": 66,
   "metadata": {
    "collapsed": true
   },
   "outputs": [],
   "source": [
    "model=LinearRegression()\n",
    "#model=RandomForestRegressor()\n",
    "fit=model.fit(training[col_names], training['current_ppi'])\n",
    "lr_prediction=fit.predict(test[col_names])"
   ]
  },
  {
   "cell_type": "code",
   "execution_count": 64,
   "metadata": {},
   "outputs": [
    {
     "name": "stdout",
     "output_type": "stream",
     "text": [
      "average error in prediction:\n",
      "0.005432880660730371\n",
      "average std in prediction error:\n",
      "0.006049328648333106\n",
      "average predicted value:\n",
      "0.00566847187966976\n"
     ]
    }
   ],
   "source": [
    "print('average error in prediction:')\n",
    "print(np.mean(np.abs(lr_prediction-test['current_ppi'])))\n",
    "print('average std in prediction error:')\n",
    "print(np.std(np.abs(lr_prediction-test['current_ppi'])))\n",
    "print('average predicted value:')\n",
    "print(np.mean(np.abs(test['current_ppi'])))"
   ]
  },
  {
   "cell_type": "code",
   "execution_count": 67,
   "metadata": {},
   "outputs": [
    {
     "name": "stdout",
     "output_type": "stream",
     "text": [
      "average error in prediction:\n",
      "0.00484186362652141\n",
      "average std in prediction error:\n",
      "0.006328794543764162\n",
      "average predicted value:\n",
      "0.00566847187966976\n"
     ]
    }
   ],
   "source": [
    "print('average error in prediction:')\n",
    "print(np.mean(np.abs(lr_prediction-test['current_ppi'])))\n",
    "print('average std in prediction error:')\n",
    "print(np.std(np.abs(lr_prediction-test['current_ppi'])))\n",
    "print('average predicted value:')\n",
    "print(np.mean(np.abs(test['current_ppi'])))"
   ]
  },
  {
   "cell_type": "code",
   "execution_count": 70,
   "metadata": {},
   "outputs": [
    {
     "name": "stdout",
     "output_type": "stream",
     "text": [
      "average error in prediction:\n",
      "0.0014184178157350508\n",
      "average std in prediction error:\n",
      "0.001325852336560547\n",
      "average predicted value:\n",
      "0.003259175418112229\n"
     ]
    }
   ],
   "source": [
    "col_names=['prev_cpi', 'prev_ppi', 'prev_unemp', 'mean_cpi', 'mean_ppi', 'mean_unemp', 'current_ppi']\n",
    "predicted_value='current_cpi'\n",
    "model=LinearRegression()\n",
    "#model=RandomForestRegressor()\n",
    "fit=model.fit(training[col_names], training[predicted_value])\n",
    "lr_prediction=fit.predict(test[col_names])\n",
    "print('average error in prediction:')\n",
    "print(np.mean(np.abs(lr_prediction-test[predicted_value])))\n",
    "print('average std in prediction error:')\n",
    "print(np.std(np.abs(lr_prediction-test[predicted_value])))\n",
    "print('average predicted value:')\n",
    "print(np.mean(np.abs(test[predicted_value])))"
   ]
  },
  {
   "cell_type": "code",
   "execution_count": 108,
   "metadata": {},
   "outputs": [
    {
     "name": "stdout",
     "output_type": "stream",
     "text": [
      "[0.020723405380626853, 0.020900897648126755, 0.020426414473603445, 0.020548845172567293, 0.020845990884836862, 0.020725037691028136, 0.020915633452199878, 0.021083695450873356, 0.021397238467135885, 0.02120527219646322, 0.02125654684615434, 0.021080923183719378, 0.021165852629196753, 0.021204618952752986, 0.02141163992698959, 0.021509393861655787, 0.02153938066124926, 0.021588308401324082, 0.02160778717859453, 0.02166506416597097, 0.02172147655819709, 0.021797049722060792, 0.021843083921805843, 0.02190537228818501, 0.021842734007738205, 0.021867768047006395, 0.021954397936769322, 0.021989122915895967, 0.022036364001014313, 0.022003546130873748, 0.022000242541575732, 0.021965148770975232, 0.02188465277267276, 0.02189371462499693, 0.02195963065061364, 0.02197719076831209, 0.0219771271539543, 0.02192548719214335]\n"
     ]
    }
   ],
   "source": [
    "mean_error=[]\n",
    "for j in range(2,40):\n",
    "    dates=[]\n",
    "    prev_cpi=[]\n",
    "    prev_ppi=[]\n",
    "    prev_unemp=[]\n",
    "    current_cpi=[]\n",
    "    current_ppi=[]\n",
    "    current_unemp=[]\n",
    "    cpi_mean=[]\n",
    "    ppi_mean=[]\n",
    "    unemp_mean=[]\n",
    "    for i in range(150, len(combined_df['pd_date'])):\n",
    "        prev_cpi.append(combined_df['cpi_diff_perc'][i-1])\n",
    "        prev_ppi.append(combined_df['ppi_diff_perc'][i-1])\n",
    "        prev_unemp.append(combined_df['unemp_diff_perc'][i-1])\n",
    "        current_cpi.append(combined_df['cpi_diff_perc'][i])\n",
    "        current_ppi.append(combined_df['ppi_diff_perc'][i])\n",
    "        current_unemp.append(combined_df['unemp_diff_perc'][i])\n",
    "        cpi_mean.append(np.nanmean(combined_df['cpi_diff_perc'][i-j:i-1]))\n",
    "        ppi_mean.append(np.nanmean(combined_df['ppi_diff_perc'][i-j:i-1]))\n",
    "        unemp_mean.append(np.nanmean(combined_df['unemp_diff_perc'][i-j:i-1]))\n",
    "        dates.append(combined_df['pd_date'][i])\n",
    "    dataset=pd.DataFrame()\n",
    "    dataset['pd_date']=dates\n",
    "    dataset['prev_cpi']=prev_cpi\n",
    "    dataset['prev_ppi']=prev_ppi\n",
    "    dataset['prev_unemp']=prev_unemp\n",
    "    dataset['current_cpi']=current_cpi\n",
    "    dataset['current_ppi']=current_ppi\n",
    "    dataset['current_unemp']=current_unemp\n",
    "    dataset['mean_cpi']=cpi_mean\n",
    "    dataset['mean_ppi']=ppi_mean\n",
    "    dataset['mean_unemp']=unemp_mean\n",
    "    final_values=dataset[-1:]\n",
    "    dataset=dataset[:-1]\n",
    "    temp=[dataset[1::5], dataset[2::5], dataset[3::5], dataset[4::5]]\n",
    "    training=pd.concat(temp)\n",
    "    test=dataset[5::5]\n",
    "\n",
    "    col_names=['prev_cpi', 'prev_ppi', 'prev_unemp', 'mean_cpi', 'mean_ppi', 'mean_unemp']\n",
    "    predicted_value='current_unemp'\n",
    "    model=LinearRegression()\n",
    "    #model=RandomForestRegressor()\n",
    "    fit=model.fit(training[col_names], training[predicted_value])\n",
    "    lr_prediction=fit.predict(test[col_names])\n",
    "    mean_error.append(np.mean(np.abs(lr_prediction-test[predicted_value])))\n",
    "print(mean_error)"
   ]
  },
  {
   "cell_type": "code",
   "execution_count": 74,
   "metadata": {},
   "outputs": [
    {
     "data": {
      "image/png": "[encoded data removed]",
      "text/plain": [
       "<matplotlib.figure.Figure at 0x1dc2c8cdf60>"
      ]
     },
     "metadata": {},
     "output_type": "display_data"
    }
   ],
   "source": [
    "plt.plot(mean_error)\n",
    "plt.show()"
   ]
  },
  {
   "cell_type": "code",
   "execution_count": 76,
   "metadata": {},
   "outputs": [
    {
     "data": {
      "image/png": "[encoded data removed]",
      "text/plain": [
       "<matplotlib.figure.Figure at 0x1dc2c927e10>"
      ]
     },
     "metadata": {},
     "output_type": "display_data"
    }
   ],
   "source": [
    "plt.plot(mean_error)\n",
    "plt.show()"
   ]
  },
  {
   "cell_type": "code",
   "execution_count": 78,
   "metadata": {},
   "outputs": [
    {
     "data": {
      "image/png": "[encoded data removed]",
      "text/plain": [
       "<matplotlib.figure.Figure at 0x1dc2d08f4a8>"
      ]
     },
     "metadata": {},
     "output_type": "display_data"
    }
   ],
   "source": [
    "plt.plot(mean_error)\n",
    "plt.show()"
   ]
  },
  {
   "cell_type": "code",
   "execution_count": 109,
   "metadata": {},
   "outputs": [
    {
     "data": {
      "image/png": "[encoded data removed]",
      "text/plain": [
       "<matplotlib.figure.Figure at 0x1dc2e86d048>"
      ]
     },
     "metadata": {},
     "output_type": "display_data"
    }
   ],
   "source": [
    "plt.plot(mean_error)\n",
    "plt.show()"
   ]
  },
  {
   "cell_type": "code",
   "execution_count": 110,
   "metadata": {},
   "outputs": [
    {
     "name": "stdout",
     "output_type": "stream",
     "text": [
      "Random Forest Feature Weights\n",
      "1.17657237965 prev_cpi\n",
      "-0.537956887436 prev_ppi\n",
      "0.0140606819503 prev_unemp\n",
      "-1.63956606246 mean_cpi\n",
      "2.1298739046 mean_ppi\n",
      "0.189302158167 mean_unemp\n"
     ]
    }
   ],
   "source": [
    "print('Random Forest Feature Weights')\n",
    "for i in range(0, len(test[col_names].keys())): print(fit.coef_[i], test[col_names].keys()[i])"
   ]
  },
  {
   "cell_type": "code",
   "execution_count": 86,
   "metadata": {},
   "outputs": [
    {
     "data": {
      "text/plain": [
       "Index(['prev_cpi', 'prev_ppi', 'prev_unemp', 'current_cpi', 'current_ppi',\n",
       "       'current_unemp', 'mean_cpi', 'mean_ppi', 'mean_unemp'],\n",
       "      dtype='object')"
      ]
     },
     "execution_count": 86,
     "metadata": {},
     "output_type": "execute_result"
    }
   ],
   "source": [
    "test.keys()"
   ]
  },
  {
   "cell_type": "code",
   "execution_count": 104,
   "metadata": {},
   "outputs": [
    {
     "data": {
      "image/png": "[encoded data removed]",
      "text/plain": [
       "<matplotlib.figure.Figure at 0x1dc2d703400>"
      ]
     },
     "metadata": {},
     "output_type": "display_data"
    }
   ],
   "source": [
    "plt.plot(test['pd_date'],test['current_unemp'], 'b-', test['pd_date'], test['current_cpi'], 'r-')\n",
    "plt.show()"
   ]
  },
  {
   "cell_type": "code",
   "execution_count": 9,
   "metadata": {
    "collapsed": true
   },
   "outputs": [],
   "source": [
    "small_bis=pd.read_excel('small_bus_optimism.xlsx')\n",
    "small_bis['pd_date']=pd.to_datetime(small_bis['Month/Year'])\n",
    "small_bis=small_bis[::-1]\n",
    "small_bis=small_bis.reset_index()\n",
    "small_bis=small_bis.drop(['index'], axis=1)"
   ]
  },
  {
   "cell_type": "code",
   "execution_count": 118,
   "metadata": {},
   "outputs": [
    {
     "data": {
      "text/html": [
       "<div>\n",
       "<style>\n",
       "    .dataframe thead tr:only-child th {\n",
       "        text-align: right;\n",
       "    }\n",
       "\n",
       "    .dataframe thead th {\n",
       "        text-align: left;\n",
       "    }\n",
       "\n",
       "    .dataframe tbody tr th {\n",
       "        vertical-align: top;\n",
       "    }\n",
       "</style>\n",
       "<table border=\"1\" class=\"dataframe\">\n",
       "  <thead>\n",
       "    <tr style=\"text-align: right;\">\n",
       "      <th></th>\n",
       "      <th>Month/Year</th>\n",
       "      <th>Small Business Optimism</th>\n",
       "      <th>pd_date</th>\n",
       "    </tr>\n",
       "  </thead>\n",
       "  <tbody>\n",
       "    <tr>\n",
       "      <th>0</th>\n",
       "      <td>1986/1/1</td>\n",
       "      <td>100.2850</td>\n",
       "      <td>1986-01-01</td>\n",
       "    </tr>\n",
       "    <tr>\n",
       "      <th>1</th>\n",
       "      <td>1986/2/1</td>\n",
       "      <td>99.7915</td>\n",
       "      <td>1986-02-01</td>\n",
       "    </tr>\n",
       "    <tr>\n",
       "      <th>2</th>\n",
       "      <td>1986/3/1</td>\n",
       "      <td>101.4630</td>\n",
       "      <td>1986-03-01</td>\n",
       "    </tr>\n",
       "    <tr>\n",
       "      <th>3</th>\n",
       "      <td>1986/4/1</td>\n",
       "      <td>101.0150</td>\n",
       "      <td>1986-04-01</td>\n",
       "    </tr>\n",
       "    <tr>\n",
       "      <th>4</th>\n",
       "      <td>1986/5/1</td>\n",
       "      <td>101.9560</td>\n",
       "      <td>1986-05-01</td>\n",
       "    </tr>\n",
       "  </tbody>\n",
       "</table>\n",
       "</div>"
      ],
      "text/plain": [
       "  Month/Year  Small Business Optimism    pd_date\n",
       "0   1986/1/1                 100.2850 1986-01-01\n",
       "1   1986/2/1                  99.7915 1986-02-01\n",
       "2   1986/3/1                 101.4630 1986-03-01\n",
       "3   1986/4/1                 101.0150 1986-04-01\n",
       "4   1986/5/1                 101.9560 1986-05-01"
      ]
     },
     "execution_count": 118,
     "metadata": {},
     "output_type": "execute_result"
    }
   ],
   "source": [
    "small_bis.head()"
   ]
  },
  {
   "cell_type": "code",
   "execution_count": 10,
   "metadata": {
    "collapsed": true
   },
   "outputs": [],
   "source": [
    "temp_combined_df = date_align(cpi_data, 'CPIAUCSL', small_bis, 'Small Business Optimism')\n",
    "combined_df['small_bis_opt']=temp_combined_df['Small Business Optimism']\n",
    "[sb_diff, sb_diff_perc]=create_diff_vector(combined_df, 'small_bis_opt', 'pd_date')\n",
    "combined_df['sb_diff']=sb_diff\n",
    "combined_df['sb_diff_perc']=sb_diff_perc"
   ]
  },
  {
   "cell_type": "code",
   "execution_count": 132,
   "metadata": {},
   "outputs": [
    {
     "data": {
      "text/html": [
       "<div>\n",
       "<style>\n",
       "    .dataframe thead tr:only-child th {\n",
       "        text-align: right;\n",
       "    }\n",
       "\n",
       "    .dataframe thead th {\n",
       "        text-align: left;\n",
       "    }\n",
       "\n",
       "    .dataframe tbody tr th {\n",
       "        vertical-align: top;\n",
       "    }\n",
       "</style>\n",
       "<table border=\"1\" class=\"dataframe\">\n",
       "  <thead>\n",
       "    <tr style=\"text-align: right;\">\n",
       "      <th></th>\n",
       "      <th>pd_date</th>\n",
       "      <th>CPIAUCSL</th>\n",
       "      <th>UNRATE</th>\n",
       "      <th>cpi_diff</th>\n",
       "      <th>cpi_diff_perc</th>\n",
       "      <th>unemp_diff</th>\n",
       "      <th>unemp_diff_perc</th>\n",
       "      <th>PPI</th>\n",
       "      <th>ppi_diff</th>\n",
       "      <th>ppi_diff_perc</th>\n",
       "      <th>small_bis_opt</th>\n",
       "      <th>sb_diff</th>\n",
       "      <th>sb_diff_perc</th>\n",
       "    </tr>\n",
       "  </thead>\n",
       "  <tbody>\n",
       "    <tr>\n",
       "      <th>468</th>\n",
       "      <td>1986-01-01</td>\n",
       "      <td>109.9</td>\n",
       "      <td>6.7</td>\n",
       "      <td>0.4</td>\n",
       "      <td>0.003640</td>\n",
       "      <td>-0.3</td>\n",
       "      <td>-0.044776</td>\n",
       "      <td>103.2</td>\n",
       "      <td>-0.4</td>\n",
       "      <td>-0.003876</td>\n",
       "      <td>100.2850</td>\n",
       "      <td>NaN</td>\n",
       "      <td>NaN</td>\n",
       "    </tr>\n",
       "    <tr>\n",
       "      <th>469</th>\n",
       "      <td>1986-02-01</td>\n",
       "      <td>109.7</td>\n",
       "      <td>7.2</td>\n",
       "      <td>-0.2</td>\n",
       "      <td>-0.001823</td>\n",
       "      <td>0.5</td>\n",
       "      <td>0.069444</td>\n",
       "      <td>101.7</td>\n",
       "      <td>-1.5</td>\n",
       "      <td>-0.014749</td>\n",
       "      <td>99.7915</td>\n",
       "      <td>-0.4935</td>\n",
       "      <td>-0.004945</td>\n",
       "    </tr>\n",
       "    <tr>\n",
       "      <th>470</th>\n",
       "      <td>1986-03-01</td>\n",
       "      <td>109.1</td>\n",
       "      <td>7.2</td>\n",
       "      <td>-0.6</td>\n",
       "      <td>-0.005500</td>\n",
       "      <td>0.0</td>\n",
       "      <td>0.000000</td>\n",
       "      <td>100.3</td>\n",
       "      <td>-1.4</td>\n",
       "      <td>-0.013958</td>\n",
       "      <td>101.4630</td>\n",
       "      <td>1.6715</td>\n",
       "      <td>0.016474</td>\n",
       "    </tr>\n",
       "    <tr>\n",
       "      <th>471</th>\n",
       "      <td>1986-04-01</td>\n",
       "      <td>108.7</td>\n",
       "      <td>7.1</td>\n",
       "      <td>-0.4</td>\n",
       "      <td>-0.003680</td>\n",
       "      <td>-0.1</td>\n",
       "      <td>-0.014085</td>\n",
       "      <td>99.6</td>\n",
       "      <td>-0.7</td>\n",
       "      <td>-0.007028</td>\n",
       "      <td>101.0150</td>\n",
       "      <td>-0.4480</td>\n",
       "      <td>-0.004435</td>\n",
       "    </tr>\n",
       "    <tr>\n",
       "      <th>472</th>\n",
       "      <td>1986-05-01</td>\n",
       "      <td>109.0</td>\n",
       "      <td>7.2</td>\n",
       "      <td>0.3</td>\n",
       "      <td>0.002752</td>\n",
       "      <td>0.1</td>\n",
       "      <td>0.013889</td>\n",
       "      <td>100.0</td>\n",
       "      <td>0.4</td>\n",
       "      <td>0.004000</td>\n",
       "      <td>101.9560</td>\n",
       "      <td>0.9410</td>\n",
       "      <td>0.009229</td>\n",
       "    </tr>\n",
       "    <tr>\n",
       "      <th>473</th>\n",
       "      <td>1986-06-01</td>\n",
       "      <td>109.4</td>\n",
       "      <td>7.2</td>\n",
       "      <td>0.4</td>\n",
       "      <td>0.003656</td>\n",
       "      <td>0.0</td>\n",
       "      <td>0.000000</td>\n",
       "      <td>99.9</td>\n",
       "      <td>-0.1</td>\n",
       "      <td>-0.001001</td>\n",
       "      <td>101.2890</td>\n",
       "      <td>-0.6670</td>\n",
       "      <td>-0.006585</td>\n",
       "    </tr>\n",
       "    <tr>\n",
       "      <th>474</th>\n",
       "      <td>1986-07-01</td>\n",
       "      <td>109.5</td>\n",
       "      <td>7.0</td>\n",
       "      <td>0.1</td>\n",
       "      <td>0.000913</td>\n",
       "      <td>-0.2</td>\n",
       "      <td>-0.028571</td>\n",
       "      <td>99.4</td>\n",
       "      <td>-0.5</td>\n",
       "      <td>-0.005030</td>\n",
       "      <td>99.8372</td>\n",
       "      <td>-1.4518</td>\n",
       "      <td>-0.014542</td>\n",
       "    </tr>\n",
       "  </tbody>\n",
       "</table>\n",
       "</div>"
      ],
      "text/plain": [
       "       pd_date  CPIAUCSL  UNRATE  cpi_diff  cpi_diff_perc  unemp_diff  \\\n",
       "468 1986-01-01     109.9     6.7       0.4       0.003640        -0.3   \n",
       "469 1986-02-01     109.7     7.2      -0.2      -0.001823         0.5   \n",
       "470 1986-03-01     109.1     7.2      -0.6      -0.005500         0.0   \n",
       "471 1986-04-01     108.7     7.1      -0.4      -0.003680        -0.1   \n",
       "472 1986-05-01     109.0     7.2       0.3       0.002752         0.1   \n",
       "473 1986-06-01     109.4     7.2       0.4       0.003656         0.0   \n",
       "474 1986-07-01     109.5     7.0       0.1       0.000913        -0.2   \n",
       "\n",
       "     unemp_diff_perc    PPI  ppi_diff  ppi_diff_perc  small_bis_opt  sb_diff  \\\n",
       "468        -0.044776  103.2      -0.4      -0.003876       100.2850      NaN   \n",
       "469         0.069444  101.7      -1.5      -0.014749        99.7915  -0.4935   \n",
       "470         0.000000  100.3      -1.4      -0.013958       101.4630   1.6715   \n",
       "471        -0.014085   99.6      -0.7      -0.007028       101.0150  -0.4480   \n",
       "472         0.013889  100.0       0.4       0.004000       101.9560   0.9410   \n",
       "473         0.000000   99.9      -0.1      -0.001001       101.2890  -0.6670   \n",
       "474        -0.028571   99.4      -0.5      -0.005030        99.8372  -1.4518   \n",
       "\n",
       "     sb_diff_perc  \n",
       "468           NaN  \n",
       "469     -0.004945  \n",
       "470      0.016474  \n",
       "471     -0.004435  \n",
       "472      0.009229  \n",
       "473     -0.006585  \n",
       "474     -0.014542  "
      ]
     },
     "execution_count": 132,
     "metadata": {},
     "output_type": "execute_result"
    }
   ],
   "source": [
    "combined_df[468:475]"
   ]
  },
  {
   "cell_type": "code",
   "execution_count": 131,
   "metadata": {},
   "outputs": [
    {
     "data": {
      "text/plain": [
       "852"
      ]
     },
     "execution_count": 131,
     "metadata": {},
     "output_type": "execute_result"
    }
   ],
   "source": [
    "len(combined_df)"
   ]
  },
  {
   "cell_type": "code",
   "execution_count": 133,
   "metadata": {
    "collapsed": true
   },
   "outputs": [],
   "source": [
    "days_to_average=6\n",
    "\n",
    "prev_cpi=[]\n",
    "prev_ppi=[]\n",
    "prev_unemp=[]\n",
    "current_cpi=[]\n",
    "current_ppi=[]\n",
    "current_unemp=[]\n",
    "cpi_mean=[]\n",
    "ppi_mean=[]\n",
    "unemp_mean=[]\n",
    "dates=[]\n",
    "prev_sbo=[]\n",
    "curr_sbo=[]\n",
    "mean_sbo=[]\n",
    "#468 is Jan 1986\n",
    "for i in range(480, len(combined_df['pd_date'])):\n",
    "    prev_cpi.append(combined_df['cpi_diff_perc'][i-1])\n",
    "    prev_ppi.append(combined_df['ppi_diff_perc'][i-1])\n",
    "    prev_unemp.append(combined_df['unemp_diff_perc'][i-1])\n",
    "    current_cpi.append(combined_df['cpi_diff_perc'][i])\n",
    "    current_ppi.append(combined_df['ppi_diff_perc'][i])\n",
    "    current_unemp.append(combined_df['unemp_diff_perc'][i])\n",
    "    cpi_mean.append(np.nanmean(combined_df['cpi_diff_perc'][i-days_to_average:i-1]))\n",
    "    ppi_mean.append(np.nanmean(combined_df['ppi_diff_perc'][i-days_to_average:i-1]))\n",
    "    unemp_mean.append(np.nanmean(combined_df['unemp_diff_perc'][i-days_to_average:i-1]))\n",
    "    prev_sbo.append(combined_df['sb_diff_perc'][i-1])\n",
    "    curr_sbo.append(combined_df['sb_diff_perc'][i])\n",
    "    mean_sbo.append(np.nanmean(combined_df['sb_diff_perc'][i-days_to_average:i-1]))\n",
    "    dates.append(combined_df['pd_date'][i])\n",
    "dataset=pd.DataFrame()\n",
    "dataset['pd_date']=dates\n",
    "dataset['prev_cpi']=prev_cpi\n",
    "dataset['prev_ppi']=prev_ppi\n",
    "dataset['prev_unemp']=prev_unemp\n",
    "dataset['current_cpi']=current_cpi\n",
    "dataset['current_ppi']=current_ppi\n",
    "dataset['current_unemp']=current_unemp\n",
    "dataset['mean_cpi']=cpi_mean\n",
    "dataset['mean_ppi']=ppi_mean\n",
    "dataset['mean_unemp']=unemp_mean\n",
    "dataset['prev_sbo']=prev_sbo\n",
    "dataset['curr_sbo']=curr_sbo\n",
    "dataset['mean_sbo']=mean_sbo\n",
    "final_values=dataset[-1:]\n",
    "dataset=dataset[:-1]\n",
    "temp=[dataset[1::5], dataset[2::5], dataset[3::5], dataset[4::5]]\n",
    "training=pd.concat(temp)\n",
    "test=dataset[5::5]"
   ]
  },
  {
   "cell_type": "code",
   "execution_count": 142,
   "metadata": {},
   "outputs": [
    {
     "name": "stdout",
     "output_type": "stream",
     "text": [
      "average error in prediction:\n",
      "0.0015728625475010828\n",
      "average std in prediction error:\n",
      "0.0013993985994098955\n",
      "average predicted value:\n",
      "0.0023062337244023623\n"
     ]
    }
   ],
   "source": [
    "col_names=['prev_cpi', 'prev_ppi', 'prev_unemp', 'prev_sbo', 'mean_cpi', 'mean_ppi', 'mean_unemp', 'mean_sbo']\n",
    "\n",
    "predicted_value='current_cpi'\n",
    "model=LinearRegression()\n",
    "#model=RandomForestRegressor()\n",
    "fit=model.fit(training[col_names], training[predicted_value])\n",
    "lr_prediction=fit.predict(test[col_names])\n",
    "print('average error in prediction:')\n",
    "print(np.mean(np.abs(lr_prediction-test[predicted_value])))\n",
    "print('average std in prediction error:')\n",
    "print(np.std(np.abs(lr_prediction-test[predicted_value])))\n",
    "print('average predicted value:')\n",
    "print(np.mean(np.abs(test[predicted_value])))"
   ]
  },
  {
   "cell_type": "code",
   "execution_count": 140,
   "metadata": {},
   "outputs": [
    {
     "name": "stdout",
     "output_type": "stream",
     "text": [
      "average error in prediction:\n",
      "0.0015649149041613805\n",
      "average std in prediction error:\n",
      "0.0013948206399051258\n",
      "average predicted value:\n",
      "0.0023062337244023623\n"
     ]
    }
   ],
   "source": [
    "col_names=['prev_cpi', 'prev_ppi', 'prev_unemp', 'mean_cpi', 'mean_ppi', 'mean_unemp']\n",
    "\n",
    "predicted_value='current_cpi'\n",
    "model=LinearRegression()\n",
    "#model=RandomForestRegressor()\n",
    "fit=model.fit(training[col_names], training[predicted_value])\n",
    "lr_prediction=fit.predict(test[col_names])\n",
    "print('average error in prediction:')\n",
    "print(np.mean(np.abs(lr_prediction-test[predicted_value])))\n",
    "print('average std in prediction error:')\n",
    "print(np.std(np.abs(lr_prediction-test[predicted_value])))\n",
    "print('average predicted value:')\n",
    "print(np.mean(np.abs(test[predicted_value])))"
   ]
  },
  {
   "cell_type": "code",
   "execution_count": 143,
   "metadata": {},
   "outputs": [
    {
     "name": "stdout",
     "output_type": "stream",
     "text": [
      "Linear Regression Feature Weights\n",
      "0.239742653089 prev_cpi\n",
      "0.0837189250153 prev_ppi\n",
      "0.006061045497 prev_unemp\n",
      "0.00390563152834 prev_sbo\n",
      "0.0766487090233 mean_cpi\n",
      "-0.0452163393127 mean_ppi\n",
      "-0.0198669131211 mean_unemp\n",
      "-0.0280119577544 mean_sbo\n"
     ]
    }
   ],
   "source": [
    "print('Linear Regression Feature Weights')\n",
    "for i in range(0, len(test[col_names].keys())): print(fit.coef_[i], test[col_names].keys()[i])"
   ]
  },
  {
   "cell_type": "code",
   "execution_count": 154,
   "metadata": {},
   "outputs": [
    {
     "data": {
      "image/png": "[encoded data removed]",
      "text/plain": [
       "<matplotlib.figure.Figure at 0x1dc2ccf5518>"
      ]
     },
     "metadata": {},
     "output_type": "display_data"
    }
   ],
   "source": [
    "plt.plot(combined_df['pd_date'][500:-1], combined_df['cpi_diff_perc'][500:-1]*5, 'bx', combined_df['pd_date'][500:-1], combined_df['sb_diff_perc'][500:-1], 'rx')\n",
    "plt.show()"
   ]
  },
  {
   "cell_type": "code",
   "execution_count": 156,
   "metadata": {},
   "outputs": [
    {
     "data": {
      "image/png": "[encoded data removed]",
      "text/plain": [
       "<matplotlib.figure.Figure at 0x1dc2d103a20>"
      ]
     },
     "metadata": {},
     "output_type": "display_data"
    }
   ],
   "source": [
    "plt.plot(combined_df['cpi_diff_perc'][500:-1], combined_df['sb_diff_perc'][500:-1], 'bx')\n",
    "plt.show()"
   ]
  },
  {
   "cell_type": "code",
   "execution_count": 231,
   "metadata": {
    "collapsed": true
   },
   "outputs": [],
   "source": [
    "oil_price=pd.read_csv('brent_crude_monthly_av_price.csv')"
   ]
  },
  {
   "cell_type": "code",
   "execution_count": 232,
   "metadata": {
    "collapsed": true
   },
   "outputs": [],
   "source": [
    "oil_price.columns=['Date', 'Price', 'Change']\n",
    "oil_price=remove_rows(oil_price, 1)"
   ]
  },
  {
   "cell_type": "code",
   "execution_count": 216,
   "metadata": {},
   "outputs": [
    {
     "data": {
      "text/html": [
       "<div>\n",
       "<style>\n",
       "    .dataframe thead tr:only-child th {\n",
       "        text-align: right;\n",
       "    }\n",
       "\n",
       "    .dataframe thead th {\n",
       "        text-align: left;\n",
       "    }\n",
       "\n",
       "    .dataframe tbody tr th {\n",
       "        vertical-align: top;\n",
       "    }\n",
       "</style>\n",
       "<table border=\"1\" class=\"dataframe\">\n",
       "  <thead>\n",
       "    <tr style=\"text-align: right;\">\n",
       "      <th></th>\n",
       "      <th>Date</th>\n",
       "      <th>Price</th>\n",
       "      <th>Change</th>\n",
       "      <th>pd_date</th>\n",
       "    </tr>\n",
       "  </thead>\n",
       "  <tbody>\n",
       "    <tr>\n",
       "      <th>0</th>\n",
       "      <td>Dec-1987</td>\n",
       "      <td>16.63</td>\n",
       "      <td>-</td>\n",
       "      <td>1987-12-01</td>\n",
       "    </tr>\n",
       "    <tr>\n",
       "      <th>1</th>\n",
       "      <td>Jan-1988</td>\n",
       "      <td>16.47</td>\n",
       "      <td>-0.96%</td>\n",
       "      <td>1988-01-01</td>\n",
       "    </tr>\n",
       "    <tr>\n",
       "      <th>2</th>\n",
       "      <td>Feb-1988</td>\n",
       "      <td>15.85</td>\n",
       "      <td>-3.76%</td>\n",
       "      <td>1988-02-01</td>\n",
       "    </tr>\n",
       "    <tr>\n",
       "      <th>3</th>\n",
       "      <td>Mar-1988</td>\n",
       "      <td>14.78</td>\n",
       "      <td>-6.75%</td>\n",
       "      <td>1988-03-01</td>\n",
       "    </tr>\n",
       "    <tr>\n",
       "      <th>4</th>\n",
       "      <td>Apr-1988</td>\n",
       "      <td>16.47</td>\n",
       "      <td>11.43%</td>\n",
       "      <td>1988-04-01</td>\n",
       "    </tr>\n",
       "    <tr>\n",
       "      <th>5</th>\n",
       "      <td>May-1988</td>\n",
       "      <td>16.22</td>\n",
       "      <td>-1.52%</td>\n",
       "      <td>1988-05-01</td>\n",
       "    </tr>\n",
       "    <tr>\n",
       "      <th>6</th>\n",
       "      <td>Jun-1988</td>\n",
       "      <td>15.33</td>\n",
       "      <td>-5.49%</td>\n",
       "      <td>1988-06-01</td>\n",
       "    </tr>\n",
       "    <tr>\n",
       "      <th>7</th>\n",
       "      <td>Jul-1988</td>\n",
       "      <td>14.48</td>\n",
       "      <td>-5.54%</td>\n",
       "      <td>1988-07-01</td>\n",
       "    </tr>\n",
       "    <tr>\n",
       "      <th>8</th>\n",
       "      <td>Aug-1988</td>\n",
       "      <td>14.55</td>\n",
       "      <td>0.48%</td>\n",
       "      <td>1988-08-01</td>\n",
       "    </tr>\n",
       "    <tr>\n",
       "      <th>9</th>\n",
       "      <td>Sep-1988</td>\n",
       "      <td>13.1</td>\n",
       "      <td>-9.97%</td>\n",
       "      <td>1988-09-01</td>\n",
       "    </tr>\n",
       "    <tr>\n",
       "      <th>10</th>\n",
       "      <td>Oct-1988</td>\n",
       "      <td>12.18</td>\n",
       "      <td>-7.02%</td>\n",
       "      <td>1988-10-01</td>\n",
       "    </tr>\n",
       "    <tr>\n",
       "      <th>11</th>\n",
       "      <td>Nov-1988</td>\n",
       "      <td>12.53</td>\n",
       "      <td>2.87%</td>\n",
       "      <td>1988-11-01</td>\n",
       "    </tr>\n",
       "    <tr>\n",
       "      <th>12</th>\n",
       "      <td>Dec-1988</td>\n",
       "      <td>14.65</td>\n",
       "      <td>16.92%</td>\n",
       "      <td>1988-12-01</td>\n",
       "    </tr>\n",
       "    <tr>\n",
       "      <th>13</th>\n",
       "      <td>Jan-1989</td>\n",
       "      <td>16.48</td>\n",
       "      <td>12.49%</td>\n",
       "      <td>1989-01-01</td>\n",
       "    </tr>\n",
       "    <tr>\n",
       "      <th>14</th>\n",
       "      <td>Feb-1989</td>\n",
       "      <td>16.35</td>\n",
       "      <td>-0.79%</td>\n",
       "      <td>1989-02-01</td>\n",
       "    </tr>\n",
       "    <tr>\n",
       "      <th>15</th>\n",
       "      <td>Mar-1989</td>\n",
       "      <td>18.03</td>\n",
       "      <td>10.28%</td>\n",
       "      <td>1989-03-01</td>\n",
       "    </tr>\n",
       "    <tr>\n",
       "      <th>16</th>\n",
       "      <td>Apr-1989</td>\n",
       "      <td>19.2</td>\n",
       "      <td>6.49%</td>\n",
       "      <td>1989-04-01</td>\n",
       "    </tr>\n",
       "    <tr>\n",
       "      <th>17</th>\n",
       "      <td>May-1989</td>\n",
       "      <td>18.02</td>\n",
       "      <td>-6.15%</td>\n",
       "      <td>1989-05-01</td>\n",
       "    </tr>\n",
       "    <tr>\n",
       "      <th>18</th>\n",
       "      <td>Jun-1989</td>\n",
       "      <td>17.63</td>\n",
       "      <td>-2.16%</td>\n",
       "      <td>1989-06-01</td>\n",
       "    </tr>\n",
       "    <tr>\n",
       "      <th>19</th>\n",
       "      <td>Jul-1989</td>\n",
       "      <td>17.67</td>\n",
       "      <td>0.23%</td>\n",
       "      <td>1989-07-01</td>\n",
       "    </tr>\n",
       "  </tbody>\n",
       "</table>\n",
       "</div>"
      ],
      "text/plain": [
       "        Date  Price  Change    pd_date\n",
       "0   Dec-1987  16.63       - 1987-12-01\n",
       "1   Jan-1988  16.47  -0.96% 1988-01-01\n",
       "2   Feb-1988  15.85  -3.76% 1988-02-01\n",
       "3   Mar-1988  14.78  -6.75% 1988-03-01\n",
       "4   Apr-1988  16.47  11.43% 1988-04-01\n",
       "5   May-1988  16.22  -1.52% 1988-05-01\n",
       "6   Jun-1988  15.33  -5.49% 1988-06-01\n",
       "7   Jul-1988  14.48  -5.54% 1988-07-01\n",
       "8   Aug-1988  14.55   0.48% 1988-08-01\n",
       "9   Sep-1988   13.1  -9.97% 1988-09-01\n",
       "10  Oct-1988  12.18  -7.02% 1988-10-01\n",
       "11  Nov-1988  12.53   2.87% 1988-11-01\n",
       "12  Dec-1988  14.65  16.92% 1988-12-01\n",
       "13  Jan-1989  16.48  12.49% 1989-01-01\n",
       "14  Feb-1989  16.35  -0.79% 1989-02-01\n",
       "15  Mar-1989  18.03  10.28% 1989-03-01\n",
       "16  Apr-1989   19.2   6.49% 1989-04-01\n",
       "17  May-1989  18.02  -6.15% 1989-05-01\n",
       "18  Jun-1989  17.63  -2.16% 1989-06-01\n",
       "19  Jul-1989  17.67   0.23% 1989-07-01"
      ]
     },
     "execution_count": 216,
     "metadata": {},
     "output_type": "execute_result"
    }
   ],
   "source": [
    "oil_price[:20]"
   ]
  },
  {
   "cell_type": "code",
   "execution_count": 233,
   "metadata": {
    "collapsed": true
   },
   "outputs": [],
   "source": [
    "for i in range(0, len(oil_price['Date'])):\n",
    "    if int(oil_price['Date'][i][-2:])>75:\n",
    "        oil_price['Date'][i]=oil_price['Date'][i][:-2]+'19'+oil_price['Date'][i][-2:]\n",
    "    else:\n",
    "        oil_price['Date'][i]=oil_price['Date'][i][:-2]+'20'+oil_price['Date'][i][-2:]"
   ]
  },
  {
   "cell_type": "code",
   "execution_count": 179,
   "metadata": {},
   "outputs": [
    {
     "data": {
      "text/plain": [
       "Timestamp('2000-12-01 00:00:00')"
      ]
     },
     "execution_count": 179,
     "metadata": {},
     "output_type": "execute_result"
    }
   ],
   "source": [
    "pd.to_datetime('Dec-2000')"
   ]
  },
  {
   "cell_type": "code",
   "execution_count": 207,
   "metadata": {},
   "outputs": [
    {
     "data": {
      "text/plain": [
       "True"
      ]
     },
     "execution_count": 207,
     "metadata": {},
     "output_type": "execute_result"
    }
   ],
   "source": [
    "if int(oil_price['Date'][0][-2:])>75:\n",
    "    print()"
   ]
  },
  {
   "cell_type": "code",
   "execution_count": 193,
   "metadata": {},
   "outputs": [
    {
     "data": {
      "text/plain": [
       "'Dec-'"
      ]
     },
     "execution_count": 193,
     "metadata": {},
     "output_type": "execute_result"
    }
   ],
   "source": [
    "oil_price['Date'][0][:-2]"
   ]
  },
  {
   "cell_type": "code",
   "execution_count": 203,
   "metadata": {
    "collapsed": true
   },
   "outputs": [],
   "source": []
  },
  {
   "cell_type": "code",
   "execution_count": 234,
   "metadata": {
    "collapsed": true
   },
   "outputs": [],
   "source": [
    "oil_price['pd_date']=pd.to_datetime(oil_price['Date'])"
   ]
  },
  {
   "cell_type": "code",
   "execution_count": 236,
   "metadata": {
    "collapsed": true
   },
   "outputs": [],
   "source": [
    "temp=[]\n",
    "for i in range(0, len(oil_price['Date'])):\n",
    "    temp.append(float(oil_price['Price'][i]))"
   ]
  },
  {
   "cell_type": "code",
   "execution_count": 235,
   "metadata": {},
   "outputs": [
    {
     "data": {
      "text/plain": [
       "16.63"
      ]
     },
     "execution_count": 235,
     "metadata": {},
     "output_type": "execute_result"
    }
   ],
   "source": [
    "float(oil_price['Price'][0])"
   ]
  },
  {
   "cell_type": "code",
   "execution_count": 225,
   "metadata": {},
   "outputs": [
    {
     "data": {
      "text/plain": [
       "116.24"
      ]
     },
     "execution_count": 225,
     "metadata": {},
     "output_type": "execute_result"
    }
   ],
   "source": [
    "float(oil_price['Price'][280])"
   ]
  },
  {
   "cell_type": "code",
   "execution_count": 240,
   "metadata": {},
   "outputs": [
    {
     "data": {
      "text/plain": [
       "0    16.63\n",
       "1    16.47\n",
       "2    15.85\n",
       "3    14.78\n",
       "4    16.47\n",
       "Name: Price, dtype: float64"
      ]
     },
     "execution_count": 240,
     "metadata": {},
     "output_type": "execute_result"
    }
   ],
   "source": [
    "oil_price['Price'][0:5]"
   ]
  },
  {
   "cell_type": "code",
   "execution_count": 238,
   "metadata": {},
   "outputs": [
    {
     "data": {
      "text/plain": [
       "[16.63, 16.47, 15.85, 14.78, 16.47]"
      ]
     },
     "execution_count": 238,
     "metadata": {},
     "output_type": "execute_result"
    }
   ],
   "source": [
    "temp[0:5]"
   ]
  },
  {
   "cell_type": "code",
   "execution_count": 239,
   "metadata": {
    "collapsed": true
   },
   "outputs": [],
   "source": [
    "oil_price['Price']=temp"
   ]
  },
  {
   "cell_type": "code",
   "execution_count": 1,
   "metadata": {},
   "outputs": [
    {
     "ename": "NameError",
     "evalue": "name 'plt' is not defined",
     "output_type": "error",
     "traceback": [
      "\u001b[1;31m---------------------------------------------------------------------------\u001b[0m",
      "\u001b[1;31mNameError\u001b[0m                                 Traceback (most recent call last)",
      "\u001b[1;32m<ipython-input-1-6243de1f4ab6>\u001b[0m in \u001b[0;36m<module>\u001b[1;34m()\u001b[0m\n\u001b[1;32m----> 1\u001b[1;33m \u001b[0mplt\u001b[0m\u001b[1;33m.\u001b[0m\u001b[0mplot\u001b[0m\u001b[1;33m(\u001b[0m\u001b[0mprice_oil\u001b[0m\u001b[1;33m[\u001b[0m\u001b[1;34m'pd_date'\u001b[0m\u001b[1;33m]\u001b[0m\u001b[1;33m,\u001b[0m \u001b[0mprice_oil\u001b[0m\u001b[1;33m[\u001b[0m\u001b[1;34m'POILBREUSDM'\u001b[0m\u001b[1;33m]\u001b[0m\u001b[1;33m)\u001b[0m\u001b[1;33m\u001b[0m\u001b[0m\n\u001b[0m\u001b[0;32m      2\u001b[0m \u001b[0mplt\u001b[0m\u001b[1;33m.\u001b[0m\u001b[0mshow\u001b[0m\u001b[1;33m(\u001b[0m\u001b[1;33m)\u001b[0m\u001b[1;33m\u001b[0m\u001b[0m\n",
      "\u001b[1;31mNameError\u001b[0m: name 'plt' is not defined"
     ]
    }
   ],
   "source": [
    "plt.plot(price_oil['pd_date'], price_oil['POILBREUSDM'])\n",
    "plt.show()"
   ]
  },
  {
   "cell_type": "code",
   "execution_count": 14,
   "metadata": {
    "collapsed": true
   },
   "outputs": [],
   "source": [
    "price_oil=pd.read_csv('POILBREUSDM.csv')\n",
    "price_oil['pd_date']=pd.to_datetime(price_oil['DATE'])\n",
    "temp_combined_df = date_align(cpi_data, 'CPIAUCSL', price_oil, 'POILBREUSDM')\n",
    "combined_df['price_oil']=temp_combined_df['POILBREUSDM']\n",
    "[price_oil_diff, price_oil_diff_perc]=create_diff_vector(combined_df, 'price_oil', 'pd_date')\n",
    "combined_df['price_oil_diff']=price_oil_diff\n",
    "combined_df['price_oil_diff_perc']=price_oil_diff_perc"
   ]
  },
  {
   "cell_type": "code",
   "execution_count": 243,
   "metadata": {},
   "outputs": [
    {
     "data": {
      "text/html": [
       "<div>\n",
       "<style>\n",
       "    .dataframe thead tr:only-child th {\n",
       "        text-align: right;\n",
       "    }\n",
       "\n",
       "    .dataframe thead th {\n",
       "        text-align: left;\n",
       "    }\n",
       "\n",
       "    .dataframe tbody tr th {\n",
       "        vertical-align: top;\n",
       "    }\n",
       "</style>\n",
       "<table border=\"1\" class=\"dataframe\">\n",
       "  <thead>\n",
       "    <tr style=\"text-align: right;\">\n",
       "      <th></th>\n",
       "      <th>DATE</th>\n",
       "      <th>POILBREUSDM</th>\n",
       "    </tr>\n",
       "  </thead>\n",
       "  <tbody>\n",
       "    <tr>\n",
       "      <th>0</th>\n",
       "      <td>1980-01-01</td>\n",
       "      <td>40.00</td>\n",
       "    </tr>\n",
       "    <tr>\n",
       "      <th>1</th>\n",
       "      <td>1980-02-01</td>\n",
       "      <td>38.50</td>\n",
       "    </tr>\n",
       "    <tr>\n",
       "      <th>2</th>\n",
       "      <td>1980-03-01</td>\n",
       "      <td>38.25</td>\n",
       "    </tr>\n",
       "    <tr>\n",
       "      <th>3</th>\n",
       "      <td>1980-04-01</td>\n",
       "      <td>38.15</td>\n",
       "    </tr>\n",
       "    <tr>\n",
       "      <th>4</th>\n",
       "      <td>1980-05-01</td>\n",
       "      <td>38.50</td>\n",
       "    </tr>\n",
       "  </tbody>\n",
       "</table>\n",
       "</div>"
      ],
      "text/plain": [
       "         DATE  POILBREUSDM\n",
       "0  1980-01-01        40.00\n",
       "1  1980-02-01        38.50\n",
       "2  1980-03-01        38.25\n",
       "3  1980-04-01        38.15\n",
       "4  1980-05-01        38.50"
      ]
     },
     "execution_count": 243,
     "metadata": {},
     "output_type": "execute_result"
    }
   ],
   "source": [
    "poil.head()"
   ]
  },
  {
   "cell_type": "code",
   "execution_count": 15,
   "metadata": {},
   "outputs": [
    {
     "data": {
      "text/html": [
       "<div>\n",
       "<style>\n",
       "    .dataframe thead tr:only-child th {\n",
       "        text-align: right;\n",
       "    }\n",
       "\n",
       "    .dataframe thead th {\n",
       "        text-align: left;\n",
       "    }\n",
       "\n",
       "    .dataframe tbody tr th {\n",
       "        vertical-align: top;\n",
       "    }\n",
       "</style>\n",
       "<table border=\"1\" class=\"dataframe\">\n",
       "  <thead>\n",
       "    <tr style=\"text-align: right;\">\n",
       "      <th></th>\n",
       "      <th>pd_date</th>\n",
       "      <th>CPIAUCSL</th>\n",
       "      <th>UNRATE</th>\n",
       "      <th>cpi_diff</th>\n",
       "      <th>cpi_diff_perc</th>\n",
       "      <th>unemp_diff</th>\n",
       "      <th>unemp_diff_perc</th>\n",
       "      <th>PPI</th>\n",
       "      <th>ppi_diff</th>\n",
       "      <th>ppi_diff_perc</th>\n",
       "      <th>small_bis_opt</th>\n",
       "      <th>sb_diff</th>\n",
       "      <th>sb_diff_perc</th>\n",
       "      <th>price_oil</th>\n",
       "      <th>price_oil_diff</th>\n",
       "      <th>price_oil_diff_perc</th>\n",
       "    </tr>\n",
       "  </thead>\n",
       "  <tbody>\n",
       "    <tr>\n",
       "      <th>0</th>\n",
       "      <td>1947-01-01</td>\n",
       "      <td>21.48</td>\n",
       "      <td>NaN</td>\n",
       "      <td>NaN</td>\n",
       "      <td>NaN</td>\n",
       "      <td>NaN</td>\n",
       "      <td>NaN</td>\n",
       "      <td>24.5</td>\n",
       "      <td>NaN</td>\n",
       "      <td>NaN</td>\n",
       "      <td>NaN</td>\n",
       "      <td>NaN</td>\n",
       "      <td>NaN</td>\n",
       "      <td>NaN</td>\n",
       "      <td>NaN</td>\n",
       "      <td>NaN</td>\n",
       "    </tr>\n",
       "    <tr>\n",
       "      <th>1</th>\n",
       "      <td>1947-02-01</td>\n",
       "      <td>21.62</td>\n",
       "      <td>NaN</td>\n",
       "      <td>0.14</td>\n",
       "      <td>0.006475</td>\n",
       "      <td>NaN</td>\n",
       "      <td>NaN</td>\n",
       "      <td>24.7</td>\n",
       "      <td>0.2</td>\n",
       "      <td>0.008097</td>\n",
       "      <td>NaN</td>\n",
       "      <td>NaN</td>\n",
       "      <td>NaN</td>\n",
       "      <td>NaN</td>\n",
       "      <td>NaN</td>\n",
       "      <td>NaN</td>\n",
       "    </tr>\n",
       "    <tr>\n",
       "      <th>2</th>\n",
       "      <td>1947-03-01</td>\n",
       "      <td>22.00</td>\n",
       "      <td>NaN</td>\n",
       "      <td>0.38</td>\n",
       "      <td>0.017273</td>\n",
       "      <td>NaN</td>\n",
       "      <td>NaN</td>\n",
       "      <td>25.3</td>\n",
       "      <td>0.6</td>\n",
       "      <td>0.023715</td>\n",
       "      <td>NaN</td>\n",
       "      <td>NaN</td>\n",
       "      <td>NaN</td>\n",
       "      <td>NaN</td>\n",
       "      <td>NaN</td>\n",
       "      <td>NaN</td>\n",
       "    </tr>\n",
       "    <tr>\n",
       "      <th>3</th>\n",
       "      <td>1947-04-01</td>\n",
       "      <td>22.00</td>\n",
       "      <td>NaN</td>\n",
       "      <td>0.00</td>\n",
       "      <td>0.000000</td>\n",
       "      <td>NaN</td>\n",
       "      <td>NaN</td>\n",
       "      <td>25.1</td>\n",
       "      <td>-0.2</td>\n",
       "      <td>-0.007968</td>\n",
       "      <td>NaN</td>\n",
       "      <td>NaN</td>\n",
       "      <td>NaN</td>\n",
       "      <td>NaN</td>\n",
       "      <td>NaN</td>\n",
       "      <td>NaN</td>\n",
       "    </tr>\n",
       "    <tr>\n",
       "      <th>4</th>\n",
       "      <td>1947-05-01</td>\n",
       "      <td>21.95</td>\n",
       "      <td>NaN</td>\n",
       "      <td>-0.05</td>\n",
       "      <td>-0.002278</td>\n",
       "      <td>NaN</td>\n",
       "      <td>NaN</td>\n",
       "      <td>25.0</td>\n",
       "      <td>-0.1</td>\n",
       "      <td>-0.004000</td>\n",
       "      <td>NaN</td>\n",
       "      <td>NaN</td>\n",
       "      <td>NaN</td>\n",
       "      <td>NaN</td>\n",
       "      <td>NaN</td>\n",
       "      <td>NaN</td>\n",
       "    </tr>\n",
       "  </tbody>\n",
       "</table>\n",
       "</div>"
      ],
      "text/plain": [
       "     pd_date  CPIAUCSL  UNRATE  cpi_diff  cpi_diff_perc  unemp_diff  \\\n",
       "0 1947-01-01     21.48     NaN       NaN            NaN         NaN   \n",
       "1 1947-02-01     21.62     NaN      0.14       0.006475         NaN   \n",
       "2 1947-03-01     22.00     NaN      0.38       0.017273         NaN   \n",
       "3 1947-04-01     22.00     NaN      0.00       0.000000         NaN   \n",
       "4 1947-05-01     21.95     NaN     -0.05      -0.002278         NaN   \n",
       "\n",
       "   unemp_diff_perc   PPI  ppi_diff  ppi_diff_perc  small_bis_opt  sb_diff  \\\n",
       "0              NaN  24.5       NaN            NaN            NaN      NaN   \n",
       "1              NaN  24.7       0.2       0.008097            NaN      NaN   \n",
       "2              NaN  25.3       0.6       0.023715            NaN      NaN   \n",
       "3              NaN  25.1      -0.2      -0.007968            NaN      NaN   \n",
       "4              NaN  25.0      -0.1      -0.004000            NaN      NaN   \n",
       "\n",
       "   sb_diff_perc  price_oil  price_oil_diff  price_oil_diff_perc  \n",
       "0           NaN        NaN             NaN                  NaN  \n",
       "1           NaN        NaN             NaN                  NaN  \n",
       "2           NaN        NaN             NaN                  NaN  \n",
       "3           NaN        NaN             NaN                  NaN  \n",
       "4           NaN        NaN             NaN                  NaN  "
      ]
     },
     "execution_count": 15,
     "metadata": {},
     "output_type": "execute_result"
    }
   ],
   "source": [
    "combined_df.head()"
   ]
  },
  {
   "cell_type": "code",
   "execution_count": 18,
   "metadata": {},
   "outputs": [
    {
     "data": {
      "image/png": "[encoded data removed]",
      "text/plain": [
       "<matplotlib.figure.Figure at 0x1e5943e57b8>"
      ]
     },
     "metadata": {},
     "output_type": "display_data"
    }
   ],
   "source": [
    "plt.plot(combined_df['pd_date'], combined_df['price_oil']*2, 'bx', combined_df['pd_date'], combined_df['PPI'], 'rx')\n",
    "plt.show()"
   ]
  },
  {
   "cell_type": "code",
   "execution_count": 85,
   "metadata": {},
   "outputs": [],
   "source": [
    "days_to_average=6\n",
    "prev_cpi=[]\n",
    "prev_ppi=[]\n",
    "prev_unemp=[]\n",
    "current_cpi=[]\n",
    "current_ppi=[]\n",
    "current_unemp=[]\n",
    "cpi_mean=[]\n",
    "ppi_mean=[]\n",
    "unemp_mean=[]\n",
    "dates=[]\n",
    "prev_sbo=[]\n",
    "curr_sbo=[]\n",
    "mean_sbo=[]\n",
    "prev_op=[]\n",
    "curr_op=[]\n",
    "op_mean=[]\n",
    "#468 is Jan 1986, good for SBO\n",
    "for i in range(480, len(combined_df['pd_date'])):\n",
    "    prev_cpi.append(combined_df['cpi_diff_perc'][i-1])\n",
    "    prev_ppi.append(combined_df['ppi_diff_perc'][i-1])\n",
    "    prev_unemp.append(combined_df['unemp_diff_perc'][i-1])\n",
    "    current_cpi.append(combined_df['cpi_diff_perc'][i])\n",
    "    current_ppi.append(combined_df['ppi_diff_perc'][i])\n",
    "    current_unemp.append(combined_df['unemp_diff_perc'][i])\n",
    "    cpi_mean.append(np.nanmean(combined_df['cpi_diff_perc'][i-days_to_average:i-1]))\n",
    "    ppi_mean.append(np.nanmean(combined_df['ppi_diff_perc'][i-days_to_average:i-1]))\n",
    "    unemp_mean.append(np.nanmean(combined_df['unemp_diff_perc'][i-days_to_average:i-1]))\n",
    "    prev_sbo.append(combined_df['sb_diff_perc'][i-1])\n",
    "    curr_sbo.append(combined_df['sb_diff_perc'][i])\n",
    "    mean_sbo.append(np.nanmean(combined_df['sb_diff_perc'][i-days_to_average:i-1]))\n",
    "    dates.append(combined_df['pd_date'][i])\n",
    "    prev_op.append(combined_df['price_oil_diff_perc'][i-1])\n",
    "    curr_op.append(combined_df['price_oil_diff_perc'][i])\n",
    "    op_mean.append(np.nanmean(combined_df['price_oil_diff_perc'][i-days_to_average:i-1]))\n",
    "dataset=pd.DataFrame()\n",
    "dataset['pd_date']=dates\n",
    "dataset['prev_cpi']=prev_cpi\n",
    "dataset['prev_ppi']=prev_ppi\n",
    "dataset['prev_unemp']=prev_unemp\n",
    "dataset['current_cpi']=current_cpi\n",
    "dataset['current_ppi']=current_ppi\n",
    "dataset['current_unemp']=current_unemp\n",
    "dataset['mean_cpi']=cpi_mean\n",
    "dataset['mean_ppi']=ppi_mean\n",
    "dataset['mean_unemp']=unemp_mean\n",
    "dataset['prev_sbo']=prev_sbo\n",
    "dataset['curr_sbo']=curr_sbo\n",
    "dataset['mean_sbo']=mean_sbo\n",
    "dataset['prev_op']=prev_op\n",
    "dataset['curr_op']=curr_op\n",
    "dataset['op_mean']=op_mean\n",
    "dataset=dataset[:-7]\n",
    "temp=[dataset[1::5], dataset[2::5], dataset[3::5], dataset[4::5]]\n",
    "training=pd.concat(temp)\n",
    "test=dataset[5::5]"
   ]
  },
  {
   "cell_type": "code",
   "execution_count": 142,
   "metadata": {},
   "outputs": [
    {
     "name": "stdout",
     "output_type": "stream",
     "text": [
      "average error in prediction:\n",
      "0.0011977611778637692\n",
      "average std in prediction error:\n",
      "0.001005285331640798\n",
      "average predicted value:\n",
      "0.002313646047609151\n"
     ]
    }
   ],
   "source": [
    "col_names=['prev_ppi', 'mean_ppi', 'curr_op', 'prev_op', 'op_mean', 'current_ppi', 'mean_cpi']\n",
    "\n",
    "predicted_value='current_cpi'\n",
    "model=LinearRegression()\n",
    "#model=RandomForestRegressor()\n",
    "fit=model.fit(training[col_names], training[predicted_value])\n",
    "lr_prediction=fit.predict(test[col_names])\n",
    "print('average error in prediction:')\n",
    "print(np.mean(np.abs(lr_prediction-test[predicted_value])))\n",
    "#print(np.mean(np.abs(lr_prediction-training[predicted_value])))\n",
    "print('average std in prediction error:')\n",
    "print(np.std(np.abs(lr_prediction-test[predicted_value])))\n",
    "print('average predicted value:')\n",
    "print(np.mean(np.abs(test[predicted_value])))"
   ]
  },
  {
   "cell_type": "code",
   "execution_count": 44,
   "metadata": {},
   "outputs": [
    {
     "data": {
      "text/plain": [
       "845    46.894545\n",
       "846          NaN\n",
       "847          NaN\n",
       "848          NaN\n",
       "849          NaN\n",
       "850          NaN\n",
       "851          NaN\n",
       "Name: price_oil, dtype: float64"
      ]
     },
     "execution_count": 44,
     "metadata": {},
     "output_type": "execute_result"
    }
   ],
   "source": [
    "combined_df['price_oil'][-7:]"
   ]
  },
  {
   "cell_type": "code",
   "execution_count": 47,
   "metadata": {},
   "outputs": [
    {
     "data": {
      "text/html": [
       "<div>\n",
       "<style>\n",
       "    .dataframe thead tr:only-child th {\n",
       "        text-align: right;\n",
       "    }\n",
       "\n",
       "    .dataframe thead th {\n",
       "        text-align: left;\n",
       "    }\n",
       "\n",
       "    .dataframe tbody tr th {\n",
       "        vertical-align: top;\n",
       "    }\n",
       "</style>\n",
       "<table border=\"1\" class=\"dataframe\">\n",
       "  <thead>\n",
       "    <tr style=\"text-align: right;\">\n",
       "      <th></th>\n",
       "      <th>pd_date</th>\n",
       "      <th>prev_cpi</th>\n",
       "      <th>prev_ppi</th>\n",
       "      <th>prev_unemp</th>\n",
       "      <th>current_cpi</th>\n",
       "      <th>current_ppi</th>\n",
       "      <th>current_unemp</th>\n",
       "      <th>mean_cpi</th>\n",
       "      <th>mean_ppi</th>\n",
       "      <th>mean_unemp</th>\n",
       "      <th>prev_sbo</th>\n",
       "      <th>curr_sbo</th>\n",
       "      <th>mean_sbo</th>\n",
       "      <th>prev_op</th>\n",
       "      <th>curr_op</th>\n",
       "      <th>op_mean</th>\n",
       "    </tr>\n",
       "  </thead>\n",
       "  <tbody>\n",
       "    <tr>\n",
       "      <th>360</th>\n",
       "      <td>2017-01-01</td>\n",
       "      <td>0.002562</td>\n",
       "      <td>0.010096</td>\n",
       "      <td>0.021277</td>\n",
       "      <td>0.005476</td>\n",
       "      <td>0.013110</td>\n",
       "      <td>0.020833</td>\n",
       "      <td>0.001954</td>\n",
       "      <td>-0.001395</td>\n",
       "      <td>-0.013125</td>\n",
       "      <td>0.069321</td>\n",
       "      <td>0.000690</td>\n",
       "      <td>0.007981</td>\n",
       "      <td>54.065455</td>\n",
       "      <td>54.892727</td>\n",
       "      <td>46.714445</td>\n",
       "    </tr>\n",
       "    <tr>\n",
       "      <th>361</th>\n",
       "      <td>2017-02-01</td>\n",
       "      <td>0.005476</td>\n",
       "      <td>0.013110</td>\n",
       "      <td>0.020833</td>\n",
       "      <td>0.001219</td>\n",
       "      <td>0.004697</td>\n",
       "      <td>-0.021277</td>\n",
       "      <td>0.002419</td>\n",
       "      <td>0.000518</td>\n",
       "      <td>-0.008870</td>\n",
       "      <td>0.000690</td>\n",
       "      <td>-0.005548</td>\n",
       "      <td>0.021632</td>\n",
       "      <td>54.892727</td>\n",
       "      <td>55.493500</td>\n",
       "      <td>48.513346</td>\n",
       "    </tr>\n",
       "    <tr>\n",
       "      <th>362</th>\n",
       "      <td>2017-03-01</td>\n",
       "      <td>0.001219</td>\n",
       "      <td>0.004697</td>\n",
       "      <td>-0.021277</td>\n",
       "      <td>-0.002888</td>\n",
       "      <td>-0.000522</td>\n",
       "      <td>-0.044444</td>\n",
       "      <td>0.003106</td>\n",
       "      <td>0.004318</td>\n",
       "      <td>-0.004703</td>\n",
       "      <td>-0.005548</td>\n",
       "      <td>-0.005857</td>\n",
       "      <td>0.022196</td>\n",
       "      <td>55.493500</td>\n",
       "      <td>51.968261</td>\n",
       "      <td>50.263022</td>\n",
       "    </tr>\n",
       "    <tr>\n",
       "      <th>363</th>\n",
       "      <td>2017-04-01</td>\n",
       "      <td>-0.002888</td>\n",
       "      <td>-0.000522</td>\n",
       "      <td>-0.044444</td>\n",
       "      <td>0.001663</td>\n",
       "      <td>0.007772</td>\n",
       "      <td>-0.022727</td>\n",
       "      <td>0.002838</td>\n",
       "      <td>0.004937</td>\n",
       "      <td>-0.012958</td>\n",
       "      <td>-0.005857</td>\n",
       "      <td>-0.001656</td>\n",
       "      <td>0.021766</td>\n",
       "      <td>51.968261</td>\n",
       "      <td>53.063500</td>\n",
       "      <td>52.123994</td>\n",
       "    </tr>\n",
       "    <tr>\n",
       "      <th>364</th>\n",
       "      <td>2017-05-01</td>\n",
       "      <td>0.001663</td>\n",
       "      <td>0.007772</td>\n",
       "      <td>-0.022727</td>\n",
       "      <td>-0.001279</td>\n",
       "      <td>-0.001037</td>\n",
       "      <td>-0.023256</td>\n",
       "      <td>0.001691</td>\n",
       "      <td>0.005047</td>\n",
       "      <td>-0.017766</td>\n",
       "      <td>-0.001656</td>\n",
       "      <td>0.000258</td>\n",
       "      <td>0.018882</td>\n",
       "      <td>53.063500</td>\n",
       "      <td>50.870870</td>\n",
       "      <td>52.571170</td>\n",
       "    </tr>\n",
       "  </tbody>\n",
       "</table>\n",
       "</div>"
      ],
      "text/plain": [
       "       pd_date  prev_cpi  prev_ppi  prev_unemp  current_cpi  current_ppi  \\\n",
       "360 2017-01-01  0.002562  0.010096    0.021277     0.005476     0.013110   \n",
       "361 2017-02-01  0.005476  0.013110    0.020833     0.001219     0.004697   \n",
       "362 2017-03-01  0.001219  0.004697   -0.021277    -0.002888    -0.000522   \n",
       "363 2017-04-01 -0.002888 -0.000522   -0.044444     0.001663     0.007772   \n",
       "364 2017-05-01  0.001663  0.007772   -0.022727    -0.001279    -0.001037   \n",
       "\n",
       "     current_unemp  mean_cpi  mean_ppi  mean_unemp  prev_sbo  curr_sbo  \\\n",
       "360       0.020833  0.001954 -0.001395   -0.013125  0.069321  0.000690   \n",
       "361      -0.021277  0.002419  0.000518   -0.008870  0.000690 -0.005548   \n",
       "362      -0.044444  0.003106  0.004318   -0.004703 -0.005548 -0.005857   \n",
       "363      -0.022727  0.002838  0.004937   -0.012958 -0.005857 -0.001656   \n",
       "364      -0.023256  0.001691  0.005047   -0.017766 -0.001656  0.000258   \n",
       "\n",
       "     mean_sbo    prev_op    curr_op    op_mean  \n",
       "360  0.007981  54.065455  54.892727  46.714445  \n",
       "361  0.021632  54.892727  55.493500  48.513346  \n",
       "362  0.022196  55.493500  51.968261  50.263022  \n",
       "363  0.021766  51.968261  53.063500  52.123994  \n",
       "364  0.018882  53.063500  50.870870  52.571170  "
      ]
     },
     "execution_count": 47,
     "metadata": {},
     "output_type": "execute_result"
    }
   ],
   "source": [
    "dataset[-5:]"
   ]
  },
  {
   "cell_type": "code",
   "execution_count": 75,
   "metadata": {},
   "outputs": [
    {
     "data": {
      "image/png": "[encoded data removed]",
      "text/plain": [
       "<matplotlib.figure.Figure at 0x1e594f96a58>"
      ]
     },
     "metadata": {},
     "output_type": "display_data"
    }
   ],
   "source": [
    "plt.plot(combined_df['pd_date'][720:], combined_df['price_oil'][720:]*2, 'bx', combined_df['pd_date'][720:], combined_df['PPI'][720:], 'rx')\n",
    "plt.show()"
   ]
  },
  {
   "cell_type": "code",
   "execution_count": 102,
   "metadata": {},
   "outputs": [
    {
     "data": {
      "image/png": "[encoded data removed]",
      "text/plain": [
       "<matplotlib.figure.Figure at 0x1e59512f550>"
      ]
     },
     "metadata": {},
     "output_type": "display_data"
    }
   ],
   "source": [
    "plt.plot(combined_df['price_oil_diff_perc'], combined_df['ppi_diff_perc'], 'bx')\n",
    "plt.show()"
   ]
  },
  {
   "cell_type": "code",
   "execution_count": 100,
   "metadata": {},
   "outputs": [
    {
     "data": {
      "text/html": [
       "<div>\n",
       "<style>\n",
       "    .dataframe thead tr:only-child th {\n",
       "        text-align: right;\n",
       "    }\n",
       "\n",
       "    .dataframe thead th {\n",
       "        text-align: left;\n",
       "    }\n",
       "\n",
       "    .dataframe tbody tr th {\n",
       "        vertical-align: top;\n",
       "    }\n",
       "</style>\n",
       "<table border=\"1\" class=\"dataframe\">\n",
       "  <thead>\n",
       "    <tr style=\"text-align: right;\">\n",
       "      <th></th>\n",
       "      <th>pd_date</th>\n",
       "      <th>CPIAUCSL</th>\n",
       "      <th>UNRATE</th>\n",
       "      <th>cpi_diff</th>\n",
       "      <th>cpi_diff_perc</th>\n",
       "      <th>unemp_diff</th>\n",
       "      <th>unemp_diff_perc</th>\n",
       "      <th>PPI</th>\n",
       "      <th>ppi_diff</th>\n",
       "      <th>ppi_diff_perc</th>\n",
       "      <th>small_bis_opt</th>\n",
       "      <th>sb_diff</th>\n",
       "      <th>sb_diff_perc</th>\n",
       "      <th>price_oil</th>\n",
       "      <th>price_oil_diff</th>\n",
       "      <th>price_oil_diff_perc</th>\n",
       "    </tr>\n",
       "  </thead>\n",
       "  <tbody>\n",
       "    <tr>\n",
       "      <th>0</th>\n",
       "      <td>1947-01-01</td>\n",
       "      <td>21.48</td>\n",
       "      <td>NaN</td>\n",
       "      <td>NaN</td>\n",
       "      <td>NaN</td>\n",
       "      <td>NaN</td>\n",
       "      <td>NaN</td>\n",
       "      <td>24.5</td>\n",
       "      <td>NaN</td>\n",
       "      <td>NaN</td>\n",
       "      <td>NaN</td>\n",
       "      <td>NaN</td>\n",
       "      <td>NaN</td>\n",
       "      <td>NaN</td>\n",
       "      <td>NaN</td>\n",
       "      <td>NaN</td>\n",
       "    </tr>\n",
       "    <tr>\n",
       "      <th>1</th>\n",
       "      <td>1947-02-01</td>\n",
       "      <td>21.62</td>\n",
       "      <td>NaN</td>\n",
       "      <td>0.14</td>\n",
       "      <td>0.006475</td>\n",
       "      <td>NaN</td>\n",
       "      <td>NaN</td>\n",
       "      <td>24.7</td>\n",
       "      <td>0.2</td>\n",
       "      <td>0.008097</td>\n",
       "      <td>NaN</td>\n",
       "      <td>NaN</td>\n",
       "      <td>NaN</td>\n",
       "      <td>NaN</td>\n",
       "      <td>NaN</td>\n",
       "      <td>NaN</td>\n",
       "    </tr>\n",
       "    <tr>\n",
       "      <th>2</th>\n",
       "      <td>1947-03-01</td>\n",
       "      <td>22.00</td>\n",
       "      <td>NaN</td>\n",
       "      <td>0.38</td>\n",
       "      <td>0.017273</td>\n",
       "      <td>NaN</td>\n",
       "      <td>NaN</td>\n",
       "      <td>25.3</td>\n",
       "      <td>0.6</td>\n",
       "      <td>0.023715</td>\n",
       "      <td>NaN</td>\n",
       "      <td>NaN</td>\n",
       "      <td>NaN</td>\n",
       "      <td>NaN</td>\n",
       "      <td>NaN</td>\n",
       "      <td>NaN</td>\n",
       "    </tr>\n",
       "    <tr>\n",
       "      <th>3</th>\n",
       "      <td>1947-04-01</td>\n",
       "      <td>22.00</td>\n",
       "      <td>NaN</td>\n",
       "      <td>0.00</td>\n",
       "      <td>0.000000</td>\n",
       "      <td>NaN</td>\n",
       "      <td>NaN</td>\n",
       "      <td>25.1</td>\n",
       "      <td>-0.2</td>\n",
       "      <td>-0.007968</td>\n",
       "      <td>NaN</td>\n",
       "      <td>NaN</td>\n",
       "      <td>NaN</td>\n",
       "      <td>NaN</td>\n",
       "      <td>NaN</td>\n",
       "      <td>NaN</td>\n",
       "    </tr>\n",
       "    <tr>\n",
       "      <th>4</th>\n",
       "      <td>1947-05-01</td>\n",
       "      <td>21.95</td>\n",
       "      <td>NaN</td>\n",
       "      <td>-0.05</td>\n",
       "      <td>-0.002278</td>\n",
       "      <td>NaN</td>\n",
       "      <td>NaN</td>\n",
       "      <td>25.0</td>\n",
       "      <td>-0.1</td>\n",
       "      <td>-0.004000</td>\n",
       "      <td>NaN</td>\n",
       "      <td>NaN</td>\n",
       "      <td>NaN</td>\n",
       "      <td>NaN</td>\n",
       "      <td>NaN</td>\n",
       "      <td>NaN</td>\n",
       "    </tr>\n",
       "  </tbody>\n",
       "</table>\n",
       "</div>"
      ],
      "text/plain": [
       "     pd_date  CPIAUCSL  UNRATE  cpi_diff  cpi_diff_perc  unemp_diff  \\\n",
       "0 1947-01-01     21.48     NaN       NaN            NaN         NaN   \n",
       "1 1947-02-01     21.62     NaN      0.14       0.006475         NaN   \n",
       "2 1947-03-01     22.00     NaN      0.38       0.017273         NaN   \n",
       "3 1947-04-01     22.00     NaN      0.00       0.000000         NaN   \n",
       "4 1947-05-01     21.95     NaN     -0.05      -0.002278         NaN   \n",
       "\n",
       "   unemp_diff_perc   PPI  ppi_diff  ppi_diff_perc  small_bis_opt  sb_diff  \\\n",
       "0              NaN  24.5       NaN            NaN            NaN      NaN   \n",
       "1              NaN  24.7       0.2       0.008097            NaN      NaN   \n",
       "2              NaN  25.3       0.6       0.023715            NaN      NaN   \n",
       "3              NaN  25.1      -0.2      -0.007968            NaN      NaN   \n",
       "4              NaN  25.0      -0.1      -0.004000            NaN      NaN   \n",
       "\n",
       "   sb_diff_perc  price_oil  price_oil_diff  price_oil_diff_perc  \n",
       "0           NaN        NaN             NaN                  NaN  \n",
       "1           NaN        NaN             NaN                  NaN  \n",
       "2           NaN        NaN             NaN                  NaN  \n",
       "3           NaN        NaN             NaN                  NaN  \n",
       "4           NaN        NaN             NaN                  NaN  "
      ]
     },
     "execution_count": 100,
     "metadata": {},
     "output_type": "execute_result"
    }
   ],
   "source": [
    "combined_df.head()"
   ]
  },
  {
   "cell_type": "code",
   "execution_count": 234,
   "metadata": {},
   "outputs": [
    {
     "name": "stdout",
     "output_type": "stream",
     "text": [
      "average error in prediction:\n",
      "0.001212451593731678\n",
      "average std in prediction error:\n",
      "0.0009173757205160885\n",
      "average predicted value:\n",
      "0.002313646047609151\n"
     ]
    }
   ],
   "source": [
    "col_names=['prev_ppi', 'mean_ppi', 'curr_op', 'prev_op', 'mean_op', 'current_ppi', 'mean_cpi']\n",
    "\n",
    "predicted_value='current_cpi'\n",
    "\n",
    "batches=20\n",
    "\n",
    "\n",
    "model=Sequential()\n",
    "s='relu'\n",
    "model.add(Dense(15, activation=s, input_dim=len(col_names)))\n",
    "model.add(Dropout(.1))\n",
    "model.add(Dense(15, activation=s))\n",
    "model.add(Dropout(.1))\n",
    "model.add(Dense(1, activation='linear'))\n",
    "#keras.optimizers.RMSprop(lr=.001, rho=0.9, epsilon=1e-08, decay=0.0)\n",
    "model.compile(loss='mean_squared_error', optimizer='adam', metrics=['accuracy'])\n",
    "\n",
    "model.fit(training[col_names], training[predicted_value], batch_size=batches, epochs=500, verbose=0)\n",
    "\n",
    "nn_prediction=model.predict(test[col_names])\n",
    "nn_prediction=np.ndarray.tolist(nn_prediction)\n",
    "nn_prediction=[float(nn_prediction[i][0]) for i in range(len(nn_prediction))]\n",
    "\n",
    "print('average error in prediction:')\n",
    "print(np.mean(np.abs(nn_prediction-test[predicted_value])))\n",
    "#print(np.mean(np.abs(lr_prediction-training[predicted_value])))\n",
    "print('average std in prediction error:')\n",
    "print(np.std(np.abs(nn_prediction-test[predicted_value])))\n",
    "print('average predicted value:')\n",
    "print(np.mean(np.abs(test[predicted_value])))"
   ]
  },
  {
   "cell_type": "code",
   "execution_count": 130,
   "metadata": {},
   "outputs": [
    {
     "data": {
      "text/plain": [
       "[0, 0, 0, 0, 0, 0, 0, 0, 0, 0]"
      ]
     },
     "execution_count": 130,
     "metadata": {},
     "output_type": "execute_result"
    }
   ],
   "source": [
    "nn_prediction[0:10]"
   ]
  },
  {
   "cell_type": "code",
   "execution_count": 127,
   "metadata": {},
   "outputs": [
    {
     "data": {
      "text/plain": [
       "72"
      ]
     },
     "execution_count": 127,
     "metadata": {},
     "output_type": "execute_result"
    }
   ],
   "source": [
    "len(nn_prediction)"
   ]
  },
  {
   "cell_type": "code",
   "execution_count": 119,
   "metadata": {},
   "outputs": [
    {
     "data": {
      "text/plain": [
       "(72,)"
      ]
     },
     "execution_count": 119,
     "metadata": {},
     "output_type": "execute_result"
    }
   ],
   "source": [
    "test[predicted_value].shape"
   ]
  },
  {
   "cell_type": "code",
   "execution_count": 121,
   "metadata": {
    "collapsed": true
   },
   "outputs": [],
   "source": [
    "nn_prediction=np.ndarray.tolist(nn_prediction)"
   ]
  },
  {
   "cell_type": "code",
   "execution_count": 164,
   "metadata": {},
   "outputs": [
    {
     "data": {
      "image/png": "[encoded data removed]",
      "text/plain": [
       "<matplotlib.figure.Figure at 0x1e5a0da0748>"
      ]
     },
     "metadata": {},
     "output_type": "display_data"
    }
   ],
   "source": [
    "c1, c2, c3, c4 = plt.bar(np.arange(4), [23.1, 11.2, 11.79, 11.98], .45)\n",
    "c1.set_facecolor('b')\n",
    "c2.set_facecolor('r')\n",
    "c3.set_facecolor('g')\n",
    "c4.set_facecolor('m')\n",
    "plt.xticks(np.arange(4), ('Average Change \\nin CPI', 'Neural Net \\nError', 'Random Forest \\nError', 'Linear Regression \\nError'))\n",
    "plt.ylabel('Hundredths of a Percent')\n",
    "plt.show()"
   ]
  },
  {
   "cell_type": "code",
   "execution_count": 165,
   "metadata": {
    "collapsed": true
   },
   "outputs": [],
   "source": [
    "ppi_idc=pd.read_csv('PPIIDC.csv')"
   ]
  },
  {
   "cell_type": "code",
   "execution_count": 166,
   "metadata": {},
   "outputs": [
    {
     "data": {
      "text/plain": [
       "Index(['DATE', 'PPIIDC'], dtype='object')"
      ]
     },
     "execution_count": 166,
     "metadata": {},
     "output_type": "execute_result"
    }
   ],
   "source": [
    "ppi_idc.keys()"
   ]
  },
  {
   "cell_type": "code",
   "execution_count": 168,
   "metadata": {},
   "outputs": [],
   "source": [
    "ppi_idc['pd_date']=pd.to_datetime(ppi_idc['DATE'])"
   ]
  },
  {
   "cell_type": "code",
   "execution_count": 179,
   "metadata": {},
   "outputs": [],
   "source": [
    "ppi_idc=remove_rows(ppi_idc, 420)"
   ]
  },
  {
   "cell_type": "code",
   "execution_count": 172,
   "metadata": {
    "collapsed": true
   },
   "outputs": [],
   "source": [
    "ppi_data=pd.read_csv('PPIACO.csv')\n",
    "ppi_data['pd_date']=pd.to_datetime(ppi_data['DATE'])"
   ]
  },
  {
   "cell_type": "code",
   "execution_count": 180,
   "metadata": {},
   "outputs": [
    {
     "data": {
      "text/html": [
       "<div>\n",
       "<style>\n",
       "    .dataframe thead tr:only-child th {\n",
       "        text-align: right;\n",
       "    }\n",
       "\n",
       "    .dataframe thead th {\n",
       "        text-align: left;\n",
       "    }\n",
       "\n",
       "    .dataframe tbody tr th {\n",
       "        vertical-align: top;\n",
       "    }\n",
       "</style>\n",
       "<table border=\"1\" class=\"dataframe\">\n",
       "  <thead>\n",
       "    <tr style=\"text-align: right;\">\n",
       "      <th></th>\n",
       "      <th>DATE</th>\n",
       "      <th>PPIIDC</th>\n",
       "      <th>pd_date</th>\n",
       "    </tr>\n",
       "  </thead>\n",
       "  <tbody>\n",
       "    <tr>\n",
       "      <th>0</th>\n",
       "      <td>1948-01-01</td>\n",
       "      <td>24.3</td>\n",
       "      <td>1948-01-01</td>\n",
       "    </tr>\n",
       "    <tr>\n",
       "      <th>1</th>\n",
       "      <td>1948-02-01</td>\n",
       "      <td>24.1</td>\n",
       "      <td>1948-02-01</td>\n",
       "    </tr>\n",
       "    <tr>\n",
       "      <th>2</th>\n",
       "      <td>1948-03-01</td>\n",
       "      <td>24.1</td>\n",
       "      <td>1948-03-01</td>\n",
       "    </tr>\n",
       "    <tr>\n",
       "      <th>3</th>\n",
       "      <td>1948-04-01</td>\n",
       "      <td>24.3</td>\n",
       "      <td>1948-04-01</td>\n",
       "    </tr>\n",
       "    <tr>\n",
       "      <th>4</th>\n",
       "      <td>1948-05-01</td>\n",
       "      <td>24.3</td>\n",
       "      <td>1948-05-01</td>\n",
       "    </tr>\n",
       "  </tbody>\n",
       "</table>\n",
       "</div>"
      ],
      "text/plain": [
       "         DATE  PPIIDC    pd_date\n",
       "0  1948-01-01    24.3 1948-01-01\n",
       "1  1948-02-01    24.1 1948-02-01\n",
       "2  1948-03-01    24.1 1948-03-01\n",
       "3  1948-04-01    24.3 1948-04-01\n",
       "4  1948-05-01    24.3 1948-05-01"
      ]
     },
     "execution_count": 180,
     "metadata": {},
     "output_type": "execute_result"
    }
   ],
   "source": [
    "ppi_idc.head()"
   ]
  },
  {
   "cell_type": "code",
   "execution_count": 178,
   "metadata": {},
   "outputs": [
    {
     "data": {
      "text/html": [
       "<div>\n",
       "<style>\n",
       "    .dataframe thead tr:only-child th {\n",
       "        text-align: right;\n",
       "    }\n",
       "\n",
       "    .dataframe thead th {\n",
       "        text-align: left;\n",
       "    }\n",
       "\n",
       "    .dataframe tbody tr th {\n",
       "        vertical-align: top;\n",
       "    }\n",
       "</style>\n",
       "<table border=\"1\" class=\"dataframe\">\n",
       "  <thead>\n",
       "    <tr style=\"text-align: right;\">\n",
       "      <th></th>\n",
       "      <th>DATE</th>\n",
       "      <th>PPIIDC</th>\n",
       "      <th>pd_date</th>\n",
       "    </tr>\n",
       "  </thead>\n",
       "  <tbody>\n",
       "    <tr>\n",
       "      <th>0</th>\n",
       "      <td>1948-01-01</td>\n",
       "      <td>24.3</td>\n",
       "      <td>1948-01-01</td>\n",
       "    </tr>\n",
       "    <tr>\n",
       "      <th>1</th>\n",
       "      <td>1948-02-01</td>\n",
       "      <td>24.1</td>\n",
       "      <td>1948-02-01</td>\n",
       "    </tr>\n",
       "    <tr>\n",
       "      <th>2</th>\n",
       "      <td>1948-03-01</td>\n",
       "      <td>24.1</td>\n",
       "      <td>1948-03-01</td>\n",
       "    </tr>\n",
       "    <tr>\n",
       "      <th>3</th>\n",
       "      <td>1948-04-01</td>\n",
       "      <td>24.3</td>\n",
       "      <td>1948-04-01</td>\n",
       "    </tr>\n",
       "    <tr>\n",
       "      <th>4</th>\n",
       "      <td>1948-05-01</td>\n",
       "      <td>24.3</td>\n",
       "      <td>1948-05-01</td>\n",
       "    </tr>\n",
       "  </tbody>\n",
       "</table>\n",
       "</div>"
      ],
      "text/plain": [
       "         DATE  PPIIDC    pd_date\n",
       "0  1948-01-01    24.3 1948-01-01\n",
       "1  1948-02-01    24.1 1948-02-01\n",
       "2  1948-03-01    24.1 1948-03-01\n",
       "3  1948-04-01    24.3 1948-04-01\n",
       "4  1948-05-01    24.3 1948-05-01"
      ]
     },
     "execution_count": 178,
     "metadata": {},
     "output_type": "execute_result"
    }
   ],
   "source": [
    "temp.head()"
   ]
  },
  {
   "cell_type": "code",
   "execution_count": 181,
   "metadata": {
    "collapsed": true
   },
   "outputs": [],
   "source": [
    "temp_combined_df = date_align(cpi_data, 'CPIAUCSL', ppi_idc, 'PPIIDC')"
   ]
  },
  {
   "cell_type": "code",
   "execution_count": 182,
   "metadata": {
    "collapsed": true
   },
   "outputs": [],
   "source": [
    "combined_df['PPIIDC']=temp_combined_df['PPIIDC']"
   ]
  },
  {
   "cell_type": "code",
   "execution_count": 183,
   "metadata": {
    "collapsed": true
   },
   "outputs": [],
   "source": [
    "[ppiidc_diff, ppiidc_diff_perc]=create_diff_vector(combined_df, 'PPIIDC', 'pd_date')\n",
    "combined_df['ppiidc_diff']=sb_diff\n",
    "combined_df['ppiidc_diff_perc']=sb_diff_perc"
   ]
  },
  {
   "cell_type": "code",
   "execution_count": 184,
   "metadata": {},
   "outputs": [
    {
     "data": {
      "text/html": [
       "<div>\n",
       "<style>\n",
       "    .dataframe thead tr:only-child th {\n",
       "        text-align: right;\n",
       "    }\n",
       "\n",
       "    .dataframe thead th {\n",
       "        text-align: left;\n",
       "    }\n",
       "\n",
       "    .dataframe tbody tr th {\n",
       "        vertical-align: top;\n",
       "    }\n",
       "</style>\n",
       "<table border=\"1\" class=\"dataframe\">\n",
       "  <thead>\n",
       "    <tr style=\"text-align: right;\">\n",
       "      <th></th>\n",
       "      <th>pd_date</th>\n",
       "      <th>CPIAUCSL</th>\n",
       "      <th>UNRATE</th>\n",
       "      <th>cpi_diff</th>\n",
       "      <th>cpi_diff_perc</th>\n",
       "      <th>unemp_diff</th>\n",
       "      <th>unemp_diff_perc</th>\n",
       "      <th>PPI</th>\n",
       "      <th>ppi_diff</th>\n",
       "      <th>ppi_diff_perc</th>\n",
       "      <th>small_bis_opt</th>\n",
       "      <th>sb_diff</th>\n",
       "      <th>sb_diff_perc</th>\n",
       "      <th>price_oil</th>\n",
       "      <th>price_oil_diff</th>\n",
       "      <th>price_oil_diff_perc</th>\n",
       "      <th>PPIIDC</th>\n",
       "      <th>ppiidc_diff</th>\n",
       "      <th>ppiidc_diff_perc</th>\n",
       "    </tr>\n",
       "  </thead>\n",
       "  <tbody>\n",
       "    <tr>\n",
       "      <th>847</th>\n",
       "      <td>2017-08-01</td>\n",
       "      <td>245.030</td>\n",
       "      <td>4.4</td>\n",
       "      <td>0.982</td>\n",
       "      <td>0.004008</td>\n",
       "      <td>0.1</td>\n",
       "      <td>0.022727</td>\n",
       "      <td>193.8</td>\n",
       "      <td>0.3</td>\n",
       "      <td>0.001548</td>\n",
       "      <td>105.388</td>\n",
       "      <td>0.183</td>\n",
       "      <td>0.001736</td>\n",
       "      <td>NaN</td>\n",
       "      <td>NaN</td>\n",
       "      <td>NaN</td>\n",
       "      <td>193.9</td>\n",
       "      <td>0.183</td>\n",
       "      <td>0.001736</td>\n",
       "    </tr>\n",
       "    <tr>\n",
       "      <th>848</th>\n",
       "      <td>2017-09-01</td>\n",
       "      <td>246.373</td>\n",
       "      <td>4.2</td>\n",
       "      <td>1.343</td>\n",
       "      <td>0.005451</td>\n",
       "      <td>-0.2</td>\n",
       "      <td>-0.047619</td>\n",
       "      <td>194.5</td>\n",
       "      <td>0.7</td>\n",
       "      <td>0.003599</td>\n",
       "      <td>103.196</td>\n",
       "      <td>-2.192</td>\n",
       "      <td>-0.021241</td>\n",
       "      <td>NaN</td>\n",
       "      <td>NaN</td>\n",
       "      <td>NaN</td>\n",
       "      <td>195.2</td>\n",
       "      <td>-2.192</td>\n",
       "      <td>-0.021241</td>\n",
       "    </tr>\n",
       "    <tr>\n",
       "      <th>849</th>\n",
       "      <td>2017-10-01</td>\n",
       "      <td>246.639</td>\n",
       "      <td>4.1</td>\n",
       "      <td>0.266</td>\n",
       "      <td>0.001078</td>\n",
       "      <td>-0.1</td>\n",
       "      <td>-0.024390</td>\n",
       "      <td>194.8</td>\n",
       "      <td>0.3</td>\n",
       "      <td>0.001540</td>\n",
       "      <td>103.744</td>\n",
       "      <td>0.548</td>\n",
       "      <td>0.005282</td>\n",
       "      <td>NaN</td>\n",
       "      <td>NaN</td>\n",
       "      <td>NaN</td>\n",
       "      <td>195.6</td>\n",
       "      <td>0.548</td>\n",
       "      <td>0.005282</td>\n",
       "    </tr>\n",
       "    <tr>\n",
       "      <th>850</th>\n",
       "      <td>2017-11-01</td>\n",
       "      <td>247.592</td>\n",
       "      <td>4.1</td>\n",
       "      <td>0.953</td>\n",
       "      <td>0.003849</td>\n",
       "      <td>0.0</td>\n",
       "      <td>0.000000</td>\n",
       "      <td>195.8</td>\n",
       "      <td>1.0</td>\n",
       "      <td>0.005107</td>\n",
       "      <td>107.123</td>\n",
       "      <td>3.379</td>\n",
       "      <td>0.031543</td>\n",
       "      <td>NaN</td>\n",
       "      <td>NaN</td>\n",
       "      <td>NaN</td>\n",
       "      <td>196.5</td>\n",
       "      <td>3.379</td>\n",
       "      <td>0.031543</td>\n",
       "    </tr>\n",
       "    <tr>\n",
       "      <th>851</th>\n",
       "      <td>2017-12-01</td>\n",
       "      <td>247.963</td>\n",
       "      <td>4.1</td>\n",
       "      <td>0.371</td>\n",
       "      <td>0.001496</td>\n",
       "      <td>0.0</td>\n",
       "      <td>0.000000</td>\n",
       "      <td>196.4</td>\n",
       "      <td>0.6</td>\n",
       "      <td>0.003055</td>\n",
       "      <td>104.475</td>\n",
       "      <td>-2.648</td>\n",
       "      <td>-0.025346</td>\n",
       "      <td>NaN</td>\n",
       "      <td>NaN</td>\n",
       "      <td>NaN</td>\n",
       "      <td>197.3</td>\n",
       "      <td>-2.648</td>\n",
       "      <td>-0.025346</td>\n",
       "    </tr>\n",
       "  </tbody>\n",
       "</table>\n",
       "</div>"
      ],
      "text/plain": [
       "       pd_date  CPIAUCSL  UNRATE  cpi_diff  cpi_diff_perc  unemp_diff  \\\n",
       "847 2017-08-01   245.030     4.4     0.982       0.004008         0.1   \n",
       "848 2017-09-01   246.373     4.2     1.343       0.005451        -0.2   \n",
       "849 2017-10-01   246.639     4.1     0.266       0.001078        -0.1   \n",
       "850 2017-11-01   247.592     4.1     0.953       0.003849         0.0   \n",
       "851 2017-12-01   247.963     4.1     0.371       0.001496         0.0   \n",
       "\n",
       "     unemp_diff_perc    PPI  ppi_diff  ppi_diff_perc  small_bis_opt  sb_diff  \\\n",
       "847         0.022727  193.8       0.3       0.001548        105.388    0.183   \n",
       "848        -0.047619  194.5       0.7       0.003599        103.196   -2.192   \n",
       "849        -0.024390  194.8       0.3       0.001540        103.744    0.548   \n",
       "850         0.000000  195.8       1.0       0.005107        107.123    3.379   \n",
       "851         0.000000  196.4       0.6       0.003055        104.475   -2.648   \n",
       "\n",
       "     sb_diff_perc  price_oil  price_oil_diff  price_oil_diff_perc  PPIIDC  \\\n",
       "847      0.001736        NaN             NaN                  NaN   193.9   \n",
       "848     -0.021241        NaN             NaN                  NaN   195.2   \n",
       "849      0.005282        NaN             NaN                  NaN   195.6   \n",
       "850      0.031543        NaN             NaN                  NaN   196.5   \n",
       "851     -0.025346        NaN             NaN                  NaN   197.3   \n",
       "\n",
       "     ppiidc_diff  ppiidc_diff_perc  \n",
       "847        0.183          0.001736  \n",
       "848       -2.192         -0.021241  \n",
       "849        0.548          0.005282  \n",
       "850        3.379          0.031543  \n",
       "851       -2.648         -0.025346  "
      ]
     },
     "execution_count": 184,
     "metadata": {},
     "output_type": "execute_result"
    }
   ],
   "source": [
    "combined_df.tail()"
   ]
  },
  {
   "cell_type": "code",
   "execution_count": 190,
   "metadata": {
    "collapsed": true
   },
   "outputs": [],
   "source": [
    "pce=pd.read_csv('PCE.csv')"
   ]
  },
  {
   "cell_type": "code",
   "execution_count": 191,
   "metadata": {},
   "outputs": [],
   "source": [
    "pce['pd_date']=pd.to_datetime(pce['DATE'])"
   ]
  },
  {
   "cell_type": "code",
   "execution_count": 192,
   "metadata": {},
   "outputs": [
    {
     "data": {
      "text/html": [
       "<div>\n",
       "<style>\n",
       "    .dataframe thead tr:only-child th {\n",
       "        text-align: right;\n",
       "    }\n",
       "\n",
       "    .dataframe thead th {\n",
       "        text-align: left;\n",
       "    }\n",
       "\n",
       "    .dataframe tbody tr th {\n",
       "        vertical-align: top;\n",
       "    }\n",
       "</style>\n",
       "<table border=\"1\" class=\"dataframe\">\n",
       "  <thead>\n",
       "    <tr style=\"text-align: right;\">\n",
       "      <th></th>\n",
       "      <th>DATE</th>\n",
       "      <th>PCE</th>\n",
       "      <th>pd_date</th>\n",
       "    </tr>\n",
       "  </thead>\n",
       "  <tbody>\n",
       "    <tr>\n",
       "      <th>0</th>\n",
       "      <td>1959-01-01</td>\n",
       "      <td>306.5</td>\n",
       "      <td>1959-01-01</td>\n",
       "    </tr>\n",
       "    <tr>\n",
       "      <th>1</th>\n",
       "      <td>1959-02-01</td>\n",
       "      <td>310.0</td>\n",
       "      <td>1959-02-01</td>\n",
       "    </tr>\n",
       "    <tr>\n",
       "      <th>2</th>\n",
       "      <td>1959-03-01</td>\n",
       "      <td>313.1</td>\n",
       "      <td>1959-03-01</td>\n",
       "    </tr>\n",
       "    <tr>\n",
       "      <th>3</th>\n",
       "      <td>1959-04-01</td>\n",
       "      <td>312.6</td>\n",
       "      <td>1959-04-01</td>\n",
       "    </tr>\n",
       "    <tr>\n",
       "      <th>4</th>\n",
       "      <td>1959-05-01</td>\n",
       "      <td>316.5</td>\n",
       "      <td>1959-05-01</td>\n",
       "    </tr>\n",
       "  </tbody>\n",
       "</table>\n",
       "</div>"
      ],
      "text/plain": [
       "         DATE    PCE    pd_date\n",
       "0  1959-01-01  306.5 1959-01-01\n",
       "1  1959-02-01  310.0 1959-02-01\n",
       "2  1959-03-01  313.1 1959-03-01\n",
       "3  1959-04-01  312.6 1959-04-01\n",
       "4  1959-05-01  316.5 1959-05-01"
      ]
     },
     "execution_count": 192,
     "metadata": {},
     "output_type": "execute_result"
    }
   ],
   "source": [
    "pce.head()"
   ]
  },
  {
   "cell_type": "code",
   "execution_count": 193,
   "metadata": {
    "collapsed": true
   },
   "outputs": [],
   "source": [
    "temp_combined_df = date_align(cpi_data, 'CPIAUCSL', pce, 'PCE')"
   ]
  },
  {
   "cell_type": "code",
   "execution_count": 194,
   "metadata": {
    "collapsed": true
   },
   "outputs": [],
   "source": [
    "combined_df['PCE']=temp_combined_df['PCE']"
   ]
  },
  {
   "cell_type": "code",
   "execution_count": 197,
   "metadata": {
    "collapsed": true
   },
   "outputs": [],
   "source": [
    "[pce_diff, pce_diff_perc]=create_diff_vector(combined_df, 'PCE', 'pd_date')\n",
    "combined_df['pce_diff']=pce_diff\n",
    "combined_df['pce_diff_perc']=pce_diff_perc"
   ]
  },
  {
   "cell_type": "code",
   "execution_count": 198,
   "metadata": {},
   "outputs": [
    {
     "data": {
      "text/html": [
       "<div>\n",
       "<style>\n",
       "    .dataframe thead tr:only-child th {\n",
       "        text-align: right;\n",
       "    }\n",
       "\n",
       "    .dataframe thead th {\n",
       "        text-align: left;\n",
       "    }\n",
       "\n",
       "    .dataframe tbody tr th {\n",
       "        vertical-align: top;\n",
       "    }\n",
       "</style>\n",
       "<table border=\"1\" class=\"dataframe\">\n",
       "  <thead>\n",
       "    <tr style=\"text-align: right;\">\n",
       "      <th></th>\n",
       "      <th>pd_date</th>\n",
       "      <th>CPIAUCSL</th>\n",
       "      <th>UNRATE</th>\n",
       "      <th>cpi_diff</th>\n",
       "      <th>cpi_diff_perc</th>\n",
       "      <th>unemp_diff</th>\n",
       "      <th>unemp_diff_perc</th>\n",
       "      <th>PPI</th>\n",
       "      <th>ppi_diff</th>\n",
       "      <th>ppi_diff_perc</th>\n",
       "      <th>...</th>\n",
       "      <th>price_oil</th>\n",
       "      <th>price_oil_diff</th>\n",
       "      <th>price_oil_diff_perc</th>\n",
       "      <th>PPIIDC</th>\n",
       "      <th>ppiidc_diff</th>\n",
       "      <th>ppiidc_diff_perc</th>\n",
       "      <th>PCE</th>\n",
       "      <th>pce</th>\n",
       "      <th>pce_diff</th>\n",
       "      <th>pce_diff_perc</th>\n",
       "    </tr>\n",
       "  </thead>\n",
       "  <tbody>\n",
       "    <tr>\n",
       "      <th>0</th>\n",
       "      <td>1947-01-01</td>\n",
       "      <td>21.48</td>\n",
       "      <td>NaN</td>\n",
       "      <td>NaN</td>\n",
       "      <td>NaN</td>\n",
       "      <td>NaN</td>\n",
       "      <td>NaN</td>\n",
       "      <td>24.5</td>\n",
       "      <td>NaN</td>\n",
       "      <td>NaN</td>\n",
       "      <td>...</td>\n",
       "      <td>NaN</td>\n",
       "      <td>NaN</td>\n",
       "      <td>NaN</td>\n",
       "      <td>NaN</td>\n",
       "      <td>NaN</td>\n",
       "      <td>NaN</td>\n",
       "      <td>NaN</td>\n",
       "      <td>NaN</td>\n",
       "      <td>NaN</td>\n",
       "      <td>NaN</td>\n",
       "    </tr>\n",
       "    <tr>\n",
       "      <th>1</th>\n",
       "      <td>1947-02-01</td>\n",
       "      <td>21.62</td>\n",
       "      <td>NaN</td>\n",
       "      <td>0.14</td>\n",
       "      <td>0.006475</td>\n",
       "      <td>NaN</td>\n",
       "      <td>NaN</td>\n",
       "      <td>24.7</td>\n",
       "      <td>0.2</td>\n",
       "      <td>0.008097</td>\n",
       "      <td>...</td>\n",
       "      <td>NaN</td>\n",
       "      <td>NaN</td>\n",
       "      <td>NaN</td>\n",
       "      <td>NaN</td>\n",
       "      <td>NaN</td>\n",
       "      <td>NaN</td>\n",
       "      <td>NaN</td>\n",
       "      <td>NaN</td>\n",
       "      <td>NaN</td>\n",
       "      <td>NaN</td>\n",
       "    </tr>\n",
       "    <tr>\n",
       "      <th>2</th>\n",
       "      <td>1947-03-01</td>\n",
       "      <td>22.00</td>\n",
       "      <td>NaN</td>\n",
       "      <td>0.38</td>\n",
       "      <td>0.017273</td>\n",
       "      <td>NaN</td>\n",
       "      <td>NaN</td>\n",
       "      <td>25.3</td>\n",
       "      <td>0.6</td>\n",
       "      <td>0.023715</td>\n",
       "      <td>...</td>\n",
       "      <td>NaN</td>\n",
       "      <td>NaN</td>\n",
       "      <td>NaN</td>\n",
       "      <td>NaN</td>\n",
       "      <td>NaN</td>\n",
       "      <td>NaN</td>\n",
       "      <td>NaN</td>\n",
       "      <td>NaN</td>\n",
       "      <td>NaN</td>\n",
       "      <td>NaN</td>\n",
       "    </tr>\n",
       "    <tr>\n",
       "      <th>3</th>\n",
       "      <td>1947-04-01</td>\n",
       "      <td>22.00</td>\n",
       "      <td>NaN</td>\n",
       "      <td>0.00</td>\n",
       "      <td>0.000000</td>\n",
       "      <td>NaN</td>\n",
       "      <td>NaN</td>\n",
       "      <td>25.1</td>\n",
       "      <td>-0.2</td>\n",
       "      <td>-0.007968</td>\n",
       "      <td>...</td>\n",
       "      <td>NaN</td>\n",
       "      <td>NaN</td>\n",
       "      <td>NaN</td>\n",
       "      <td>NaN</td>\n",
       "      <td>NaN</td>\n",
       "      <td>NaN</td>\n",
       "      <td>NaN</td>\n",
       "      <td>NaN</td>\n",
       "      <td>NaN</td>\n",
       "      <td>NaN</td>\n",
       "    </tr>\n",
       "    <tr>\n",
       "      <th>4</th>\n",
       "      <td>1947-05-01</td>\n",
       "      <td>21.95</td>\n",
       "      <td>NaN</td>\n",
       "      <td>-0.05</td>\n",
       "      <td>-0.002278</td>\n",
       "      <td>NaN</td>\n",
       "      <td>NaN</td>\n",
       "      <td>25.0</td>\n",
       "      <td>-0.1</td>\n",
       "      <td>-0.004000</td>\n",
       "      <td>...</td>\n",
       "      <td>NaN</td>\n",
       "      <td>NaN</td>\n",
       "      <td>NaN</td>\n",
       "      <td>NaN</td>\n",
       "      <td>NaN</td>\n",
       "      <td>NaN</td>\n",
       "      <td>NaN</td>\n",
       "      <td>NaN</td>\n",
       "      <td>NaN</td>\n",
       "      <td>NaN</td>\n",
       "    </tr>\n",
       "  </tbody>\n",
       "</table>\n",
       "<p>5 rows × 23 columns</p>\n",
       "</div>"
      ],
      "text/plain": [
       "     pd_date  CPIAUCSL  UNRATE  cpi_diff  cpi_diff_perc  unemp_diff  \\\n",
       "0 1947-01-01     21.48     NaN       NaN            NaN         NaN   \n",
       "1 1947-02-01     21.62     NaN      0.14       0.006475         NaN   \n",
       "2 1947-03-01     22.00     NaN      0.38       0.017273         NaN   \n",
       "3 1947-04-01     22.00     NaN      0.00       0.000000         NaN   \n",
       "4 1947-05-01     21.95     NaN     -0.05      -0.002278         NaN   \n",
       "\n",
       "   unemp_diff_perc   PPI  ppi_diff  ppi_diff_perc      ...        price_oil  \\\n",
       "0              NaN  24.5       NaN            NaN      ...              NaN   \n",
       "1              NaN  24.7       0.2       0.008097      ...              NaN   \n",
       "2              NaN  25.3       0.6       0.023715      ...              NaN   \n",
       "3              NaN  25.1      -0.2      -0.007968      ...              NaN   \n",
       "4              NaN  25.0      -0.1      -0.004000      ...              NaN   \n",
       "\n",
       "   price_oil_diff  price_oil_diff_perc  PPIIDC  ppiidc_diff  ppiidc_diff_perc  \\\n",
       "0             NaN                  NaN     NaN          NaN               NaN   \n",
       "1             NaN                  NaN     NaN          NaN               NaN   \n",
       "2             NaN                  NaN     NaN          NaN               NaN   \n",
       "3             NaN                  NaN     NaN          NaN               NaN   \n",
       "4             NaN                  NaN     NaN          NaN               NaN   \n",
       "\n",
       "   PCE  pce  pce_diff  pce_diff_perc  \n",
       "0  NaN  NaN       NaN            NaN  \n",
       "1  NaN  NaN       NaN            NaN  \n",
       "2  NaN  NaN       NaN            NaN  \n",
       "3  NaN  NaN       NaN            NaN  \n",
       "4  NaN  NaN       NaN            NaN  \n",
       "\n",
       "[5 rows x 23 columns]"
      ]
     },
     "execution_count": 198,
     "metadata": {},
     "output_type": "execute_result"
    }
   ],
   "source": [
    "combined_df.head()"
   ]
  },
  {
   "cell_type": "code",
   "execution_count": 251,
   "metadata": {
    "collapsed": true
   },
   "outputs": [],
   "source": [
    "days_to_average=6\n",
    "prev_cpi=[]\n",
    "prev_ppi=[]\n",
    "prev_unemp=[]\n",
    "current_cpi=[]\n",
    "current_ppi=[]\n",
    "current_unemp=[]\n",
    "cpi_mean=[]\n",
    "ppi_mean=[]\n",
    "unemp_mean=[]\n",
    "dates=[]\n",
    "prev_sbo=[]\n",
    "curr_sbo=[]\n",
    "mean_sbo=[]\n",
    "prev_op=[]\n",
    "curr_op=[]\n",
    "mean_op=[]\n",
    "prev_ppi_idc=[]\n",
    "curr_ppi_idc=[]\n",
    "mean_ppi_idc=[]\n",
    "prev_pce=[]\n",
    "curr_pce=[]\n",
    "mean_pce=[]\n",
    "#468 is Jan 1986, good for SBO\n",
    "for i in range(480, len(combined_df['pd_date'])):\n",
    "    prev_cpi.append(combined_df['cpi_diff_perc'][i-1])\n",
    "    prev_ppi.append(combined_df['ppi_diff_perc'][i-1])\n",
    "    prev_unemp.append(combined_df['unemp_diff_perc'][i-1])\n",
    "    current_cpi.append(combined_df['cpi_diff_perc'][i])\n",
    "    current_ppi.append(combined_df['ppi_diff_perc'][i])\n",
    "    current_unemp.append(combined_df['unemp_diff_perc'][i])\n",
    "    cpi_mean.append(np.nanmean(combined_df['cpi_diff_perc'][i-days_to_average:i-1]))\n",
    "    ppi_mean.append(np.nanmean(combined_df['ppi_diff_perc'][i-days_to_average:i-1]))\n",
    "    unemp_mean.append(np.nanmean(combined_df['unemp_diff_perc'][i-days_to_average:i-1]))\n",
    "    prev_sbo.append(combined_df['sb_diff_perc'][i-1])\n",
    "    curr_sbo.append(combined_df['sb_diff_perc'][i])\n",
    "    mean_sbo.append(np.nanmean(combined_df['sb_diff_perc'][i-days_to_average:i-1]))\n",
    "    dates.append(combined_df['pd_date'][i])\n",
    "    prev_op.append(combined_df['price_oil_diff_perc'][i-1])\n",
    "    curr_op.append(combined_df['price_oil_diff_perc'][i])\n",
    "    mean_op.append(np.nanmean(combined_df['price_oil_diff_perc'][i-days_to_average:i-1]))\n",
    "    prev_ppi_idc.append(combined_df['ppiidc_diff_perc'][i-1])\n",
    "    curr_ppi_idc.append(combined_df['ppiidc_diff_perc'][i])\n",
    "    mean_ppi_idc.append(np.nanmean(combined_df['ppiidc_diff_perc'][i-days_to_average:i-1]))\n",
    "    prev_pce.append(combined_df['pce_diff_perc'][i-1])\n",
    "    curr_pce.append(combined_df['pce_diff_perc'][i])\n",
    "    mean_pce.append(np.nanmean(combined_df['pce_diff_perc'][i-days_to_average:i-1]))\n",
    "dataset=pd.DataFrame()\n",
    "dataset['pd_date']=dates\n",
    "dataset['prev_cpi']=prev_cpi\n",
    "dataset['prev_ppi']=prev_ppi\n",
    "dataset['prev_unemp']=prev_unemp\n",
    "dataset['current_cpi']=current_cpi\n",
    "dataset['current_ppi']=current_ppi\n",
    "dataset['current_unemp']=current_unemp\n",
    "dataset['mean_cpi']=cpi_mean\n",
    "dataset['mean_ppi']=ppi_mean\n",
    "dataset['mean_unemp']=unemp_mean\n",
    "dataset['prev_sbo']=prev_sbo\n",
    "dataset['curr_sbo']=curr_sbo\n",
    "dataset['mean_sbo']=mean_sbo\n",
    "dataset['prev_op']=prev_op\n",
    "dataset['curr_op']=curr_op\n",
    "dataset['mean_op']=mean_op\n",
    "dataset['prev_ppi_idc']=prev_ppi_idc\n",
    "dataset['curr_ppi_idc']=curr_ppi_idc\n",
    "dataset['mean_ppi_idc']=mean_ppi_idc\n",
    "dataset['prev_pce']=prev_pce\n",
    "dataset['curr_pce']=curr_pce\n",
    "dataset['mean_pce']=mean_pce\n",
    "dataset=dataset[:-7]\n",
    "temp=[dataset[1::5], dataset[2::5], dataset[3::5], dataset[4::5]]\n",
    "training=pd.concat(temp)\n",
    "test=dataset[5::5]"
   ]
  },
  {
   "cell_type": "code",
   "execution_count": 257,
   "metadata": {},
   "outputs": [
    {
     "name": "stdout",
     "output_type": "stream",
     "text": [
      "average error in prediction:\n",
      "0.0011564188348248917\n",
      "average predicted value:\n",
      "0.002313646047609151\n",
      "Linear Regression Feature Weights\n",
      "0.0734090487045 prev_cpi\n",
      "0.0323237230332 mean_cpi\n",
      "0.0171150409026 prev_ppi\n",
      "0.0163672250004 mean_ppi\n",
      "0.562794927979 current_ppi\n",
      "0.0207845492449 prev_unemp\n",
      "0.0277349573677 current_unemp\n",
      "0.0289538004093 prev_op\n",
      "0.0450010309164 curr_op\n",
      "0.0244586312403 prev_ppi_idc\n",
      "0.0259268200744 curr_ppi_idc\n",
      "0.0367174239022 mean_ppi_idc\n",
      "0.0325196961002 prev_pce\n",
      "0.0426430954696 curr_pce\n",
      "0.0132500296552 mean_pce\n"
     ]
    }
   ],
   "source": [
    "#col_names=['prev_cpi', 'mean_cpi', 'prev_ppi', 'mean_ppi', 'current_ppi', 'prev_unemp', 'mean_unemp', 'current_unemp', \\\n",
    "#           'prev_op', 'curr_op', 'mean_op', 'prev_ppi_idc', 'curr_ppi_idc', 'mean_ppi_idc', 'prev_pce', 'curr_pce', 'mean_pce']\n",
    "\n",
    "col_names=['prev_cpi', 'mean_cpi', 'prev_ppi', 'mean_ppi', 'current_ppi', 'prev_unemp', 'current_unemp', \\\n",
    "           'prev_op', 'curr_op', 'prev_ppi_idc', 'curr_ppi_idc', 'mean_ppi_idc', 'prev_pce', 'curr_pce', 'mean_pce']\n",
    "\n",
    "\n",
    "\n",
    "\n",
    "predicted_value='current_cpi'\n",
    "#model=LinearRegression()\n",
    "model=RandomForestRegressor()\n",
    "fit=model.fit(training[col_names], training[predicted_value])\n",
    "lr_prediction=fit.predict(test[col_names])\n",
    "print('average error in prediction:')\n",
    "print(np.mean(np.abs(lr_prediction-test[predicted_value])))\n",
    "\n",
    "print('average predicted value:')\n",
    "print(np.mean(np.abs(test[predicted_value])))\n",
    "\n",
    "print('Linear Regression Feature Weights')\n",
    "#for i in range(0, len(test[col_names].keys())): print(fit.coef_[i], test[col_names].keys()[i])\n",
    "for i in range(0, len(test[col_names].keys())): print(fit.feature_importances_[i], test[col_names].keys()[i])"
   ]
  },
  {
   "cell_type": "code",
   "execution_count": 208,
   "metadata": {},
   "outputs": [
    {
     "data": {
      "text/plain": [
       "RangeIndex(start=5, stop=365, step=5)"
      ]
     },
     "execution_count": 208,
     "metadata": {},
     "output_type": "execute_result"
    }
   ],
   "source": [
    "test[predicted_value].keys()"
   ]
  },
  {
   "cell_type": "code",
   "execution_count": 221,
   "metadata": {},
   "outputs": [
    {
     "data": {
      "image/png": "[encoded data removed]",
      "text/plain": [
       "<matplotlib.figure.Figure at 0x1e5a17ea0f0>"
      ]
     },
     "metadata": {},
     "output_type": "display_data"
    }
   ],
   "source": [
    "plt.plot(dataset['pd_date'], dataset['curr_op'], 'bx', dataset['pd_date'], dataset['current_cpi']*20, 'rx')\n",
    "plt.show()"
   ]
  },
  {
   "cell_type": "code",
   "execution_count": 223,
   "metadata": {},
   "outputs": [
    {
     "data": {
      "image/png": "[encoded data removed]",
      "text/plain": [
       "<matplotlib.figure.Figure at 0x1e5a18bae10>"
      ]
     },
     "metadata": {},
     "output_type": "display_data"
    }
   ],
   "source": [
    "plt.plot(dataset['curr_op'], dataset['current_cpi'], 'bx')\n",
    "plt.show()"
   ]
  },
  {
   "cell_type": "code",
   "execution_count": 225,
   "metadata": {},
   "outputs": [
    {
     "data": {
      "image/png": "[encoded data removed]",
      "text/plain": [
       "<matplotlib.figure.Figure at 0x1e5a1920160>"
      ]
     },
     "metadata": {},
     "output_type": "display_data"
    }
   ],
   "source": [
    "plt.plot(dataset['pd_date'], dataset['curr_op']/np.max(np.abs(dataset['curr_op'])), 'bx', dataset['pd_date'], dataset['current_cpi']/np.max(np.abs(dataset['current_cpi'])), 'rx')\n",
    "plt.show()"
   ]
  },
  {
   "cell_type": "code",
   "execution_count": 227,
   "metadata": {},
   "outputs": [
    {
     "data": {
      "image/png": "[encoded data removed]",
      "text/plain": [
       "<matplotlib.figure.Figure at 0x1e5a1a4cc50>"
      ]
     },
     "metadata": {},
     "output_type": "display_data"
    }
   ],
   "source": [
    "plt.plot(dataset['curr_op']/np.max(np.abs(dataset['curr_op'])), dataset['current_cpi']/np.max(np.abs(dataset['current_cpi'])), 'bx')\n",
    "plt.show()"
   ]
  },
  {
   "cell_type": "code",
   "execution_count": 259,
   "metadata": {},
   "outputs": [
    {
     "name": "stdout",
     "output_type": "stream",
     "text": [
      "average error in prediction:\n",
      "0.0013467818185072169\n",
      "average predicted value:\n",
      "0.002313646047609151\n"
     ]
    }
   ],
   "source": [
    "col_names=['prev_cpi', 'mean_cpi', 'prev_ppi', 'mean_ppi', 'current_ppi', 'prev_unemp', 'mean_unemp', 'current_unemp', \\\n",
    "           'prev_op', 'curr_op', 'mean_op', 'prev_ppi_idc', 'curr_ppi_idc', 'mean_ppi_idc', 'prev_pce', 'curr_pce', 'mean_pce']\n",
    "\n",
    "predicted_value='current_cpi'\n",
    "\n",
    "batches=20\n",
    "\n",
    "\n",
    "model=Sequential()\n",
    "s='relu'\n",
    "model.add(Dense(30, activation=s, input_dim=len(col_names)))\n",
    "model.add(Dropout(.1))\n",
    "model.add(Dense(30, activation=s))\n",
    "model.add(Dropout(.1))\n",
    "model.add(Dense(1, activation='linear'))\n",
    "#keras.optimizers.RMSprop(lr=.001, rho=0.9, epsilon=1e-08, decay=0.0)\n",
    "model.compile(loss='mean_squared_error', optimizer='adam', metrics=['accuracy'])\n",
    "\n",
    "model.fit(training[col_names], training[predicted_value], batch_size=batches, epochs=500, verbose=0)\n",
    "\n",
    "nn_prediction=model.predict(test[col_names])\n",
    "nn_prediction=np.ndarray.tolist(nn_prediction)\n",
    "nn_prediction=[float(nn_prediction[i][0]) for i in range(len(nn_prediction))]\n",
    "\n",
    "print('average error in prediction:')\n",
    "print(np.mean(np.abs(nn_prediction-test[predicted_value])))\n",
    "\n",
    "print('average predicted value:')\n",
    "print(np.mean(np.abs(test[predicted_value])))"
   ]
  },
  {
   "cell_type": "code",
   "execution_count": null,
   "metadata": {
    "collapsed": true
   },
   "outputs": [],
   "source": []
  }
 ],
 "metadata": {
  "kernelspec": {
   "display_name": "Python 3",
   "language": "python",
   "name": "python3"
  },
  "language_info": {
   "codemirror_mode": {
    "name": "ipython",
    "version": 3
   },
   "file_extension": ".py",
   "mimetype": "text/x-python",
   "name": "python",
   "nbconvert_exporter": "python",
   "pygments_lexer": "ipython3",
   "version": "3.6.3"
  }
 },
 "nbformat": 4,
 "nbformat_minor": 2
}
